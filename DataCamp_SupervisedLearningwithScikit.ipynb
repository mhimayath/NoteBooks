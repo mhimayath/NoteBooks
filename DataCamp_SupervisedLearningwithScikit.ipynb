{
  "nbformat": 4,
  "nbformat_minor": 0,
  "metadata": {
    "colab": {
      "name": "DataCamp_SupervisedLearningwithScikit.ipynb",
      "provenance": [],
      "mount_file_id": "10iGjlgZ8yhhKKFmKqiOLjsj1F8-jb8mO",
      "authorship_tag": "ABX9TyMt+rhH5nGFfP5tCsAFXeoj",
      "include_colab_link": true
    },
    "kernelspec": {
      "name": "python3",
      "display_name": "Python 3"
    }
  },
  "cells": [
    {
      "cell_type": "markdown",
      "metadata": {
        "id": "view-in-github",
        "colab_type": "text"
      },
      "source": [
        "<a href=\"https://colab.research.google.com/github/mhimayath/NoteBooks/blob/main/DataCamp_SupervisedLearningwithScikit.ipynb\" target=\"_parent\"><img src=\"https://colab.research.google.com/assets/colab-badge.svg\" alt=\"Open In Colab\"/></a>"
      ]
    },
    {
      "cell_type": "code",
      "metadata": {
        "id": "EE0enG9xYGTk"
      },
      "source": [
        "import pandas as pd \n",
        "import numpy as np\n",
        "from sklearn import datasets\n",
        "import matplotlib.pyplot as plt\n",
        "import seaborn as sns\n",
        "plt.style.use('ggplot')"
      ],
      "execution_count": 30,
      "outputs": []
    },
    {
      "cell_type": "code",
      "metadata": {
        "id": "6ails9y1_Hn0"
      },
      "source": [
        "iris = datasets.load_iris()"
      ],
      "execution_count": 31,
      "outputs": []
    },
    {
      "cell_type": "code",
      "metadata": {
        "colab": {
          "base_uri": "https://localhost:8080/"
        },
        "id": "Ho7ozloaAOSM",
        "outputId": "6ba2ec3f-b62e-4b55-dc97-9122842e5427"
      },
      "source": [
        "type(iris)\n",
        "print(iris.keys())\n",
        "print(iris.feature_names)\n",
        "print(iris.target_names)\n",
        "print(iris.target)"
      ],
      "execution_count": 32,
      "outputs": [
        {
          "output_type": "stream",
          "text": [
            "dict_keys(['data', 'target', 'target_names', 'DESCR', 'feature_names', 'filename'])\n",
            "['sepal length (cm)', 'sepal width (cm)', 'petal length (cm)', 'petal width (cm)']\n",
            "['setosa' 'versicolor' 'virginica']\n",
            "[0 0 0 0 0 0 0 0 0 0 0 0 0 0 0 0 0 0 0 0 0 0 0 0 0 0 0 0 0 0 0 0 0 0 0 0 0\n",
            " 0 0 0 0 0 0 0 0 0 0 0 0 0 1 1 1 1 1 1 1 1 1 1 1 1 1 1 1 1 1 1 1 1 1 1 1 1\n",
            " 1 1 1 1 1 1 1 1 1 1 1 1 1 1 1 1 1 1 1 1 1 1 1 1 1 1 2 2 2 2 2 2 2 2 2 2 2\n",
            " 2 2 2 2 2 2 2 2 2 2 2 2 2 2 2 2 2 2 2 2 2 2 2 2 2 2 2 2 2 2 2 2 2 2 2 2 2\n",
            " 2 2]\n"
          ],
          "name": "stdout"
        }
      ]
    },
    {
      "cell_type": "code",
      "metadata": {
        "id": "0zQsSBGnAPsk"
      },
      "source": [
        "df = pd.DataFrame(iris.data,columns=iris.feature_names)\n",
        "# df.columns = iris.feature_names\n",
        "df['target'] = iris.target\n",
        "df['target']= df['target'].map({0:'setosa',1:'versicolor',2:'virginica'})"
      ],
      "execution_count": 33,
      "outputs": []
    },
    {
      "cell_type": "code",
      "metadata": {
        "colab": {
          "base_uri": "https://localhost:8080/"
        },
        "id": "iPUfVOOrMRM1",
        "outputId": "ad6b4e19-aac2-4f7f-88b1-3b895832783e"
      },
      "source": [
        "df.info()"
      ],
      "execution_count": 34,
      "outputs": [
        {
          "output_type": "stream",
          "text": [
            "<class 'pandas.core.frame.DataFrame'>\n",
            "RangeIndex: 150 entries, 0 to 149\n",
            "Data columns (total 5 columns):\n",
            " #   Column             Non-Null Count  Dtype  \n",
            "---  ------             --------------  -----  \n",
            " 0   sepal length (cm)  150 non-null    float64\n",
            " 1   sepal width (cm)   150 non-null    float64\n",
            " 2   petal length (cm)  150 non-null    float64\n",
            " 3   petal width (cm)   150 non-null    float64\n",
            " 4   target             150 non-null    object \n",
            "dtypes: float64(4), object(1)\n",
            "memory usage: 6.0+ KB\n"
          ],
          "name": "stdout"
        }
      ]
    },
    {
      "cell_type": "code",
      "metadata": {
        "colab": {
          "base_uri": "https://localhost:8080/",
          "height": 792
        },
        "id": "WSrJ-FkqARch",
        "outputId": "187f8a1d-9060-4eff-8a95-8a2a5ed7384b"
      },
      "source": [
        "pd.plotting.scatter_matrix(df,c=iris.target,figsize=[8,8])"
      ],
      "execution_count": 35,
      "outputs": [
        {
          "output_type": "execute_result",
          "data": {
            "text/plain": [
              "array([[<matplotlib.axes._subplots.AxesSubplot object at 0x7f685841a320>,\n",
              "        <matplotlib.axes._subplots.AxesSubplot object at 0x7f68553106d8>,\n",
              "        <matplotlib.axes._subplots.AxesSubplot object at 0x7f6855341940>,\n",
              "        <matplotlib.axes._subplots.AxesSubplot object at 0x7f68552f1ba8>],\n",
              "       [<matplotlib.axes._subplots.AxesSubplot object at 0x7f68552a4e10>,\n",
              "        <matplotlib.axes._subplots.AxesSubplot object at 0x7f68552670b8>,\n",
              "        <matplotlib.axes._subplots.AxesSubplot object at 0x7f6855217710>,\n",
              "        <matplotlib.axes._subplots.AxesSubplot object at 0x7f68551c6a58>],\n",
              "       [<matplotlib.axes._subplots.AxesSubplot object at 0x7f68551c6ac8>,\n",
              "        <matplotlib.axes._subplots.AxesSubplot object at 0x7f68551bb1d0>,\n",
              "        <matplotlib.axes._subplots.AxesSubplot object at 0x7f685516c550>,\n",
              "        <matplotlib.axes._subplots.AxesSubplot object at 0x7f685511f8d0>],\n",
              "       [<matplotlib.axes._subplots.AxesSubplot object at 0x7f68550d0c50>,\n",
              "        <matplotlib.axes._subplots.AxesSubplot object at 0x7f6855102fd0>,\n",
              "        <matplotlib.axes._subplots.AxesSubplot object at 0x7f68550c0358>,\n",
              "        <matplotlib.axes._subplots.AxesSubplot object at 0x7f68550716d8>]],\n",
              "      dtype=object)"
            ]
          },
          "metadata": {
            "tags": []
          },
          "execution_count": 35
        },
        {
          "output_type": "display_data",
          "data": {
            "image/png": "[encoded data removed]",
            "text/plain": [
              "<Figure size 576x576 with 16 Axes>"
            ]
          },
          "metadata": {
            "tags": []
          }
        }
      ]
    },
    {
      "cell_type": "code",
      "metadata": {
        "colab": {
          "base_uri": "https://localhost:8080/"
        },
        "id": "5vjhfHDtBVHZ",
        "outputId": "366013c8-741e-47be-ea14-cdcee0803c9d"
      },
      "source": [
        "from sklearn.neighbors import KNeighborsClassifier\n",
        "knn = KNeighborsClassifier(n_neighbors=6)\n",
        "knn.fit(iris['data'],iris['target'])"
      ],
      "execution_count": 36,
      "outputs": [
        {
          "output_type": "execute_result",
          "data": {
            "text/plain": [
              "KNeighborsClassifier(algorithm='auto', leaf_size=30, metric='minkowski',\n",
              "                     metric_params=None, n_jobs=None, n_neighbors=6, p=2,\n",
              "                     weights='uniform')"
            ]
          },
          "metadata": {
            "tags": []
          },
          "execution_count": 36
        }
      ]
    },
    {
      "cell_type": "code",
      "metadata": {
        "id": "L9gCIg_AGUsj"
      },
      "source": [
        "test_data = np.array([[5.6, 2.8, 3.9, 1.1],[5.7, 2.6, 3.8, 1.3],[4.7, 3.2, 1.3, 0.2]])"
      ],
      "execution_count": 37,
      "outputs": []
    },
    {
      "cell_type": "code",
      "metadata": {
        "colab": {
          "base_uri": "https://localhost:8080/"
        },
        "id": "xfTTQxV0Gqs6",
        "outputId": "8e072cb8-3853-47be-be8f-b836f538380b"
      },
      "source": [
        "predicted = knn.predict(test_data)\n",
        "predicted # {0:'setosa',1:'versicolor',2:'virginica'}"
      ],
      "execution_count": 38,
      "outputs": [
        {
          "output_type": "execute_result",
          "data": {
            "text/plain": [
              "array([1, 1, 0])"
            ]
          },
          "metadata": {
            "tags": []
          },
          "execution_count": 38
        }
      ]
    },
    {
      "cell_type": "code",
      "metadata": {
        "colab": {
          "base_uri": "https://localhost:8080/",
          "height": 224
        },
        "id": "IWPHz255Gukb",
        "outputId": "7155587f-1253-4f1f-ceaa-c451775570dd"
      },
      "source": [
        "cols = ['party', 'infants', 'water', 'budget', 'physician', 'salvador',\n",
        "       'religious', 'satellite', 'aid', 'missile', 'immigration', 'synfuels',\n",
        "       'education', 'superfund', 'crime', 'duty_free_exports', 'eaa_rsa']\n",
        "df = pd.read_csv('/content/drive/MyDrive/datasets/Supervised Learning with scikit-learn/house-votes-84.csv',header=None,names=cols,na_values='?')\n",
        "df.fillna('n',inplace=True)\n",
        "# df.iloc[:,1:].map({'y':1,'n':0})\n",
        "df.head()"
      ],
      "execution_count": 39,
      "outputs": [
        {
          "output_type": "execute_result",
          "data": {
            "text/html": [
              "<div>\n",
              "<style scoped>\n",
              "    .dataframe tbody tr th:only-of-type {\n",
              "        vertical-align: middle;\n",
              "    }\n",
              "\n",
              "    .dataframe tbody tr th {\n",
              "        vertical-align: top;\n",
              "    }\n",
              "\n",
              "    .dataframe thead th {\n",
              "        text-align: right;\n",
              "    }\n",
              "</style>\n",
              "<table border=\"1\" class=\"dataframe\">\n",
              "  <thead>\n",
              "    <tr style=\"text-align: right;\">\n",
              "      <th></th>\n",
              "      <th>party</th>\n",
              "      <th>infants</th>\n",
              "      <th>water</th>\n",
              "      <th>budget</th>\n",
              "      <th>physician</th>\n",
              "      <th>salvador</th>\n",
              "      <th>religious</th>\n",
              "      <th>satellite</th>\n",
              "      <th>aid</th>\n",
              "      <th>missile</th>\n",
              "      <th>immigration</th>\n",
              "      <th>synfuels</th>\n",
              "      <th>education</th>\n",
              "      <th>superfund</th>\n",
              "      <th>crime</th>\n",
              "      <th>duty_free_exports</th>\n",
              "      <th>eaa_rsa</th>\n",
              "    </tr>\n",
              "  </thead>\n",
              "  <tbody>\n",
              "    <tr>\n",
              "      <th>0</th>\n",
              "      <td>republican</td>\n",
              "      <td>n</td>\n",
              "      <td>y</td>\n",
              "      <td>n</td>\n",
              "      <td>y</td>\n",
              "      <td>y</td>\n",
              "      <td>y</td>\n",
              "      <td>n</td>\n",
              "      <td>n</td>\n",
              "      <td>n</td>\n",
              "      <td>y</td>\n",
              "      <td>n</td>\n",
              "      <td>y</td>\n",
              "      <td>y</td>\n",
              "      <td>y</td>\n",
              "      <td>n</td>\n",
              "      <td>y</td>\n",
              "    </tr>\n",
              "    <tr>\n",
              "      <th>1</th>\n",
              "      <td>republican</td>\n",
              "      <td>n</td>\n",
              "      <td>y</td>\n",
              "      <td>n</td>\n",
              "      <td>y</td>\n",
              "      <td>y</td>\n",
              "      <td>y</td>\n",
              "      <td>n</td>\n",
              "      <td>n</td>\n",
              "      <td>n</td>\n",
              "      <td>n</td>\n",
              "      <td>n</td>\n",
              "      <td>y</td>\n",
              "      <td>y</td>\n",
              "      <td>y</td>\n",
              "      <td>n</td>\n",
              "      <td>n</td>\n",
              "    </tr>\n",
              "    <tr>\n",
              "      <th>2</th>\n",
              "      <td>democrat</td>\n",
              "      <td>n</td>\n",
              "      <td>y</td>\n",
              "      <td>y</td>\n",
              "      <td>n</td>\n",
              "      <td>y</td>\n",
              "      <td>y</td>\n",
              "      <td>n</td>\n",
              "      <td>n</td>\n",
              "      <td>n</td>\n",
              "      <td>n</td>\n",
              "      <td>y</td>\n",
              "      <td>n</td>\n",
              "      <td>y</td>\n",
              "      <td>y</td>\n",
              "      <td>n</td>\n",
              "      <td>n</td>\n",
              "    </tr>\n",
              "    <tr>\n",
              "      <th>3</th>\n",
              "      <td>democrat</td>\n",
              "      <td>n</td>\n",
              "      <td>y</td>\n",
              "      <td>y</td>\n",
              "      <td>n</td>\n",
              "      <td>n</td>\n",
              "      <td>y</td>\n",
              "      <td>n</td>\n",
              "      <td>n</td>\n",
              "      <td>n</td>\n",
              "      <td>n</td>\n",
              "      <td>y</td>\n",
              "      <td>n</td>\n",
              "      <td>y</td>\n",
              "      <td>n</td>\n",
              "      <td>n</td>\n",
              "      <td>y</td>\n",
              "    </tr>\n",
              "    <tr>\n",
              "      <th>4</th>\n",
              "      <td>democrat</td>\n",
              "      <td>y</td>\n",
              "      <td>y</td>\n",
              "      <td>y</td>\n",
              "      <td>n</td>\n",
              "      <td>y</td>\n",
              "      <td>y</td>\n",
              "      <td>n</td>\n",
              "      <td>n</td>\n",
              "      <td>n</td>\n",
              "      <td>n</td>\n",
              "      <td>y</td>\n",
              "      <td>n</td>\n",
              "      <td>y</td>\n",
              "      <td>y</td>\n",
              "      <td>y</td>\n",
              "      <td>y</td>\n",
              "    </tr>\n",
              "  </tbody>\n",
              "</table>\n",
              "</div>"
            ],
            "text/plain": [
              "        party infants water budget  ... superfund crime duty_free_exports eaa_rsa\n",
              "0  republican       n     y      n  ...         y     y                 n       y\n",
              "1  republican       n     y      n  ...         y     y                 n       n\n",
              "2    democrat       n     y      y  ...         y     y                 n       n\n",
              "3    democrat       n     y      y  ...         y     n                 n       y\n",
              "4    democrat       y     y      y  ...         y     y                 y       y\n",
              "\n",
              "[5 rows x 17 columns]"
            ]
          },
          "metadata": {
            "tags": []
          },
          "execution_count": 39
        }
      ]
    },
    {
      "cell_type": "code",
      "metadata": {
        "colab": {
          "base_uri": "https://localhost:8080/",
          "height": 224
        },
        "id": "ftrx9HtiLIGW",
        "outputId": "7067d7b2-f998-4bf0-ed16-878463a29338"
      },
      "source": [
        "for i in df:\n",
        "  if i != 'party':\n",
        "    df[i] = df[i].astype('object')\n",
        "    df[i] = df[i].map({\"n\":0,\"y\":1})\n",
        "df.head()\n",
        "# df.iloc[1,1]"
      ],
      "execution_count": 40,
      "outputs": [
        {
          "output_type": "execute_result",
          "data": {
            "text/html": [
              "<div>\n",
              "<style scoped>\n",
              "    .dataframe tbody tr th:only-of-type {\n",
              "        vertical-align: middle;\n",
              "    }\n",
              "\n",
              "    .dataframe tbody tr th {\n",
              "        vertical-align: top;\n",
              "    }\n",
              "\n",
              "    .dataframe thead th {\n",
              "        text-align: right;\n",
              "    }\n",
              "</style>\n",
              "<table border=\"1\" class=\"dataframe\">\n",
              "  <thead>\n",
              "    <tr style=\"text-align: right;\">\n",
              "      <th></th>\n",
              "      <th>party</th>\n",
              "      <th>infants</th>\n",
              "      <th>water</th>\n",
              "      <th>budget</th>\n",
              "      <th>physician</th>\n",
              "      <th>salvador</th>\n",
              "      <th>religious</th>\n",
              "      <th>satellite</th>\n",
              "      <th>aid</th>\n",
              "      <th>missile</th>\n",
              "      <th>immigration</th>\n",
              "      <th>synfuels</th>\n",
              "      <th>education</th>\n",
              "      <th>superfund</th>\n",
              "      <th>crime</th>\n",
              "      <th>duty_free_exports</th>\n",
              "      <th>eaa_rsa</th>\n",
              "    </tr>\n",
              "  </thead>\n",
              "  <tbody>\n",
              "    <tr>\n",
              "      <th>0</th>\n",
              "      <td>republican</td>\n",
              "      <td>0</td>\n",
              "      <td>1</td>\n",
              "      <td>0</td>\n",
              "      <td>1</td>\n",
              "      <td>1</td>\n",
              "      <td>1</td>\n",
              "      <td>0</td>\n",
              "      <td>0</td>\n",
              "      <td>0</td>\n",
              "      <td>1</td>\n",
              "      <td>0</td>\n",
              "      <td>1</td>\n",
              "      <td>1</td>\n",
              "      <td>1</td>\n",
              "      <td>0</td>\n",
              "      <td>1</td>\n",
              "    </tr>\n",
              "    <tr>\n",
              "      <th>1</th>\n",
              "      <td>republican</td>\n",
              "      <td>0</td>\n",
              "      <td>1</td>\n",
              "      <td>0</td>\n",
              "      <td>1</td>\n",
              "      <td>1</td>\n",
              "      <td>1</td>\n",
              "      <td>0</td>\n",
              "      <td>0</td>\n",
              "      <td>0</td>\n",
              "      <td>0</td>\n",
              "      <td>0</td>\n",
              "      <td>1</td>\n",
              "      <td>1</td>\n",
              "      <td>1</td>\n",
              "      <td>0</td>\n",
              "      <td>0</td>\n",
              "    </tr>\n",
              "    <tr>\n",
              "      <th>2</th>\n",
              "      <td>democrat</td>\n",
              "      <td>0</td>\n",
              "      <td>1</td>\n",
              "      <td>1</td>\n",
              "      <td>0</td>\n",
              "      <td>1</td>\n",
              "      <td>1</td>\n",
              "      <td>0</td>\n",
              "      <td>0</td>\n",
              "      <td>0</td>\n",
              "      <td>0</td>\n",
              "      <td>1</td>\n",
              "      <td>0</td>\n",
              "      <td>1</td>\n",
              "      <td>1</td>\n",
              "      <td>0</td>\n",
              "      <td>0</td>\n",
              "    </tr>\n",
              "    <tr>\n",
              "      <th>3</th>\n",
              "      <td>democrat</td>\n",
              "      <td>0</td>\n",
              "      <td>1</td>\n",
              "      <td>1</td>\n",
              "      <td>0</td>\n",
              "      <td>0</td>\n",
              "      <td>1</td>\n",
              "      <td>0</td>\n",
              "      <td>0</td>\n",
              "      <td>0</td>\n",
              "      <td>0</td>\n",
              "      <td>1</td>\n",
              "      <td>0</td>\n",
              "      <td>1</td>\n",
              "      <td>0</td>\n",
              "      <td>0</td>\n",
              "      <td>1</td>\n",
              "    </tr>\n",
              "    <tr>\n",
              "      <th>4</th>\n",
              "      <td>democrat</td>\n",
              "      <td>1</td>\n",
              "      <td>1</td>\n",
              "      <td>1</td>\n",
              "      <td>0</td>\n",
              "      <td>1</td>\n",
              "      <td>1</td>\n",
              "      <td>0</td>\n",
              "      <td>0</td>\n",
              "      <td>0</td>\n",
              "      <td>0</td>\n",
              "      <td>1</td>\n",
              "      <td>0</td>\n",
              "      <td>1</td>\n",
              "      <td>1</td>\n",
              "      <td>1</td>\n",
              "      <td>1</td>\n",
              "    </tr>\n",
              "  </tbody>\n",
              "</table>\n",
              "</div>"
            ],
            "text/plain": [
              "        party  infants  water  ...  crime  duty_free_exports  eaa_rsa\n",
              "0  republican        0      1  ...      1                  0        1\n",
              "1  republican        0      1  ...      1                  0        0\n",
              "2    democrat        0      1  ...      1                  0        0\n",
              "3    democrat        0      1  ...      0                  0        1\n",
              "4    democrat        1      1  ...      1                  1        1\n",
              "\n",
              "[5 rows x 17 columns]"
            ]
          },
          "metadata": {
            "tags": []
          },
          "execution_count": 40
        }
      ]
    },
    {
      "cell_type": "markdown",
      "metadata": {
        "id": "2OXnJpKVIPTk"
      },
      "source": [
        "### k-Nearest Neighbors: Fit\n",
        "Having explored the Congressional voting records dataset, it is time now to build your first classifier. In this exercise, you will fit a k-Nearest Neighbors classifier to the voting dataset, which has once again been pre-loaded for you into a DataFrame df.\n",
        "\n",
        "In the video, Hugo discussed the importance of ensuring your data adheres to the format required by the scikit-learn API. The features need to be in an array where each column is a feature and each row a different observation or data point - in this case, a Congressman's voting record. The target needs to be a single column with the same number of observations as the feature data. We have done this for you in this exercise. Notice we named the feature array X and response variable y: This is in accordance with the common scikit-learn practice.\n",
        "\n",
        "Your job is to create an instance of a k-NN classifier with 6 neighbors (by specifying the n_neighbors parameter) and then fit it to the data. The data has been pre-loaded into a DataFrame called df.\n",
        "\n",
        "\n",
        "Instructions\n",
        "\n",
        "Import KNeighborsClassifier from sklearn.neighbors.\n",
        "\n",
        "Create arrays X and y for the features and the target variable. Here this has been done for you. Note the use of .drop() to drop the target variable 'party' from the feature array X as well as the use of the .values attribute to ensure X and y are NumPy arrays. Without using .values, X and y are a DataFrame and Series respectively; the scikit-learn API will accept them in this form also as long as they are of the right shape.\n",
        "\n",
        "Instantiate a KNeighborsClassifier called knn with 6 neighbors by specifying the n_neighbors parameter.\n",
        "\n",
        "Fit the classifier to the data using the .fit() method."
      ]
    },
    {
      "cell_type": "code",
      "metadata": {
        "colab": {
          "base_uri": "https://localhost:8080/"
        },
        "id": "gloZP1jTHMkp",
        "outputId": "3677a22d-acec-4e5d-b84d-98a4945257fd"
      },
      "source": [
        "# Import KNeighborsClassifier from sklearn.neighbors\n",
        "from sklearn.neighbors import KNeighborsClassifier\n",
        "\n",
        "# Create arrays for the features and the response variable\n",
        "y = df['party'].values\n",
        "X = df.drop('party', axis=1).values\n",
        "\n",
        "# Create a k-NN classifier with 6 neighbors\n",
        "knn = KNeighborsClassifier(n_neighbors=6)\n",
        "\n",
        "# Fit the classifier to the data\n",
        "knn.fit(X,y)\n"
      ],
      "execution_count": 41,
      "outputs": [
        {
          "output_type": "execute_result",
          "data": {
            "text/plain": [
              "KNeighborsClassifier(algorithm='auto', leaf_size=30, metric='minkowski',\n",
              "                     metric_params=None, n_jobs=None, n_neighbors=6, p=2,\n",
              "                     weights='uniform')"
            ]
          },
          "metadata": {
            "tags": []
          },
          "execution_count": 41
        }
      ]
    },
    {
      "cell_type": "code",
      "metadata": {
        "colab": {
          "base_uri": "https://localhost:8080/"
        },
        "id": "CSGOR6ANS_gZ",
        "outputId": "d490b1da-7256-4690-bec9-13ae42e849d4"
      },
      "source": [
        "X_new = np.array([[0.69646919, 0.28613933, 0.22685145, 0.55131477, 0.71946897,\n",
        "        0.42310646, 0.9807642 , 0.68482974, 0.4809319 , 0.39211752,\n",
        "        0.34317802, 0.72904971, 0.43857224, 0.0596779 , 0.39804426,\n",
        "        0.73799541],[0.69646919, 0.28613933, 0.22685145, 0.55131477, 0.71946897,\n",
        "        0.42310646, 0.9807642 , 0.68482974, 0.4809319 , 0.39211752,\n",
        "        0.34317802, 0.72904971, 0.43857224, 0.0596779 , 0.39804426,\n",
        "        0.73799541]])\n",
        "X_new"
      ],
      "execution_count": 42,
      "outputs": [
        {
          "output_type": "execute_result",
          "data": {
            "text/plain": [
              "array([[0.69646919, 0.28613933, 0.22685145, 0.55131477, 0.71946897,\n",
              "        0.42310646, 0.9807642 , 0.68482974, 0.4809319 , 0.39211752,\n",
              "        0.34317802, 0.72904971, 0.43857224, 0.0596779 , 0.39804426,\n",
              "        0.73799541],\n",
              "       [0.69646919, 0.28613933, 0.22685145, 0.55131477, 0.71946897,\n",
              "        0.42310646, 0.9807642 , 0.68482974, 0.4809319 , 0.39211752,\n",
              "        0.34317802, 0.72904971, 0.43857224, 0.0596779 , 0.39804426,\n",
              "        0.73799541]])"
            ]
          },
          "metadata": {
            "tags": []
          },
          "execution_count": 42
        }
      ]
    },
    {
      "cell_type": "code",
      "metadata": {
        "colab": {
          "base_uri": "https://localhost:8080/"
        },
        "id": "2NKk4wS6KLdp",
        "outputId": "b23b3f81-b502-4f2a-f235-98846fe92b5c"
      },
      "source": [
        "# Import KNeighborsClassifier from sklearn.neighbors\n",
        "from sklearn.neighbors import KNeighborsClassifier \n",
        "\n",
        "# Create arrays for the features and the response variable\n",
        "y = df['party'].values\n",
        "X = df.drop('party',axis=1).values\n",
        "\n",
        "# Create a k-NN classifier with 6 neighbors: knn\n",
        "knn = KNeighborsClassifier(n_neighbors=6)\n",
        "\n",
        "# Fit the classifier to the data\n",
        "knn.fit(X,y)\n",
        "\n",
        "# Predict the labels for the training data X\n",
        "y_pred = knn.predict(X)\n",
        "\n",
        "# Predict and print the label for the new data point X_new\n",
        "new_prediction = knn.predict(X_new)\n",
        "print(\"Prediction: {}\".format(new_prediction))\n",
        "# print(\"Prediction: {}\".format(y_pred))"
      ],
      "execution_count": 43,
      "outputs": [
        {
          "output_type": "stream",
          "text": [
            "Prediction: ['democrat' 'democrat']\n"
          ],
          "name": "stdout"
        }
      ]
    },
    {
      "cell_type": "markdown",
      "metadata": {
        "id": "8K5ipQXkMr3o"
      },
      "source": [
        "http://yann.lecun.com/exdb/mnist/"
      ]
    },
    {
      "cell_type": "markdown",
      "metadata": {
        "id": "Fqc0Cx4QN6kX"
      },
      "source": [
        "### The digits recognition dataset\n",
        "Up until now, you have been performing binary classification, since the target variable had two possible outcomes. Hugo, however, got to perform multi-class classification in the videos, where the target variable could take on three possible outcomes. Why does he get to have all the fun?! In the following exercises, you'll be working with the MNIST digits recognition dataset, which has 10 classes, the digits 0 through 9! A reduced version of the MNIST dataset is one of scikit-learn's included datasets, and that is the one we will use in this exercise.\n",
        "\n",
        "Each sample in this scikit-learn dataset is an 8x8 image representing a handwritten digit. Each pixel is represented by an integer in the range 0 to 16, indicating varying levels of black. Recall that scikit-learn's built-in datasets are of type Bunch, which are dictionary-like objects. Helpfully for the MNIST dataset, scikit-learn provides an 'images' key in addition to the 'data' and 'target' keys that you have seen with the Iris data. Because it is a 2D array of the images corresponding to each sample, this 'images' key is useful for visualizing the images, as you'll see in this exercise (for more on plotting 2D arrays, see Chapter 2 of DataCamp's course on Data Visualization with Python). On the other hand, the 'data' key contains the feature array - that is, the images as a flattened array of 64 pixels.\n",
        "\n",
        "Notice that you can access the keys of these Bunch objects in two different ways: By using the . notation, as in digits.images, or the [] notation, as in digits['images'].\n",
        "\n",
        "For more on the MNIST data, check out this exercise in Part 1 of DataCamp's Importing Data in Python course. There, the full version of the MNIST dataset is used, in which the images are 28x28. It is a famous dataset in machine learning and computer vision, and frequently used as a benchmark to evaluate the performance of a new model.\n",
        "\n",
        "Instructions\n",
        "\n",
        "Import datasets from sklearn and matplotlib.pyplot as plt.\n",
        "Load the digits dataset using the .load_digits() method on datasets.\n",
        "Print the keys and DESCR of digits.\n",
        "Print the shape of images and data keys using the . notation.\n",
        "Display the 1011th image using plt.imshow(). This has been done for you, so hit 'Submit Answer' to see which handwritten digit this happens to be!"
      ]
    },
    {
      "cell_type": "code",
      "metadata": {
        "id": "IiXnVXsTTG--",
        "colab": {
          "base_uri": "https://localhost:8080/",
          "height": 1000
        },
        "outputId": "482bda74-d9af-4b62-fd9b-2def4009621a"
      },
      "source": [
        "# Import necessary modules\n",
        "from sklearn import datasets\n",
        "import matplotlib.pyplot as plt\n",
        "\n",
        "# Load the digits dataset: digits\n",
        "digits = datasets.load_digits()\n",
        "\n",
        "# Print the keys and DESCR of the dataset\n",
        "print(digits.DESCR)\n",
        "print(digits.keys())\n",
        "\n",
        "# Print the shape of the images and data keys\n",
        "print(digits.images.shape)\n",
        "print(digits.data.shape)\n",
        "\n",
        "# Display digit 1010\n",
        "plt.imshow(digits.images[1010], cmap=plt.cm.gray_r, interpolation='nearest')\n",
        "plt.show()"
      ],
      "execution_count": 44,
      "outputs": [
        {
          "output_type": "stream",
          "text": [
            ".. _digits_dataset:\n",
            "\n",
            "Optical recognition of handwritten digits dataset\n",
            "--------------------------------------------------\n",
            "\n",
            "**Data Set Characteristics:**\n",
            "\n",
            "    :Number of Instances: 5620\n",
            "    :Number of Attributes: 64\n",
            "    :Attribute Information: 8x8 image of integer pixels in the range 0..16.\n",
            "    :Missing Attribute Values: None\n",
            "    :Creator: E. Alpaydin (alpaydin '@' boun.edu.tr)\n",
            "    :Date: July; 1998\n",
            "\n",
            "This is a copy of the test set of the UCI ML hand-written digits datasets\n",
            "https://archive.ics.uci.edu/ml/datasets/Optical+Recognition+of+Handwritten+Digits\n",
            "\n",
            "The data set contains images of hand-written digits: 10 classes where\n",
            "each class refers to a digit.\n",
            "\n",
            "Preprocessing programs made available by NIST were used to extract\n",
            "normalized bitmaps of handwritten digits from a preprinted form. From a\n",
            "total of 43 people, 30 contributed to the training set and different 13\n",
            "to the test set. 32x32 bitmaps are divided into nonoverlapping blocks of\n",
            "4x4 and the number of on pixels are counted in each block. This generates\n",
            "an input matrix of 8x8 where each element is an integer in the range\n",
            "0..16. This reduces dimensionality and gives invariance to small\n",
            "distortions.\n",
            "\n",
            "For info on NIST preprocessing routines, see M. D. Garris, J. L. Blue, G.\n",
            "T. Candela, D. L. Dimmick, J. Geist, P. J. Grother, S. A. Janet, and C.\n",
            "L. Wilson, NIST Form-Based Handprint Recognition System, NISTIR 5469,\n",
            "1994.\n",
            "\n",
            ".. topic:: References\n",
            "\n",
            "  - C. Kaynak (1995) Methods of Combining Multiple Classifiers and Their\n",
            "    Applications to Handwritten Digit Recognition, MSc Thesis, Institute of\n",
            "    Graduate Studies in Science and Engineering, Bogazici University.\n",
            "  - E. Alpaydin, C. Kaynak (1998) Cascading Classifiers, Kybernetika.\n",
            "  - Ken Tang and Ponnuthurai N. Suganthan and Xi Yao and A. Kai Qin.\n",
            "    Linear dimensionalityreduction using relevance weighted LDA. School of\n",
            "    Electrical and Electronic Engineering Nanyang Technological University.\n",
            "    2005.\n",
            "  - Claudio Gentile. A New Approximate Maximal Margin Classification\n",
            "    Algorithm. NIPS. 2000.\n",
            "dict_keys(['data', 'target', 'target_names', 'images', 'DESCR'])\n",
            "(1797, 8, 8)\n",
            "(1797, 64)\n"
          ],
          "name": "stdout"
        },
        {
          "output_type": "display_data",
          "data": {
            "image/png": "[encoded data removed]",
            "text/plain": [
              "<Figure size 432x288 with 1 Axes>"
            ]
          },
          "metadata": {
            "tags": []
          }
        }
      ]
    },
    {
      "cell_type": "code",
      "metadata": {
        "colab": {
          "base_uri": "https://localhost:8080/"
        },
        "id": "PGNt8ke_OBLJ",
        "outputId": "22d01565-99b6-424c-d6fd-c824eec2cc62"
      },
      "source": [
        "digits.keys()"
      ],
      "execution_count": 45,
      "outputs": [
        {
          "output_type": "execute_result",
          "data": {
            "text/plain": [
              "dict_keys(['data', 'target', 'target_names', 'images', 'DESCR'])"
            ]
          },
          "metadata": {
            "tags": []
          },
          "execution_count": 45
        }
      ]
    },
    {
      "cell_type": "code",
      "metadata": {
        "colab": {
          "base_uri": "https://localhost:8080/"
        },
        "id": "N4_XxTMHOPd7",
        "outputId": "289061f1-51b0-4042-b9d5-f837ce89cf5f"
      },
      "source": [
        "digits.target"
      ],
      "execution_count": 46,
      "outputs": [
        {
          "output_type": "execute_result",
          "data": {
            "text/plain": [
              "array([0, 1, 2, ..., 8, 9, 8])"
            ]
          },
          "metadata": {
            "tags": []
          },
          "execution_count": 46
        }
      ]
    },
    {
      "cell_type": "markdown",
      "metadata": {
        "id": "VrZAHKQnT65J"
      },
      "source": [
        "### Train/Test Split + Fit/Predict/Accuracy\n",
        "Now that you have learned about the importance of splitting your data into training and test sets, it's time to practice doing this on the digits dataset! After creating arrays for the features and target variable, you will split them into training and test sets, fit a k-NN classifier to the training data, and then compute its accuracy using the .score() method.\n",
        "\n",
        "Instructions\n",
        "\n",
        "Import KNeighborsClassifier from sklearn.neighbors and train_test_split from sklearn.model_selection.\n",
        "Create an array for the features using digits.data and an array for the target using digits.target.\n",
        "Create stratified training and test sets using 0.2 for the size of the test set. Use a random state of 42. Stratify the split according to the labels so that they are distributed in the training and test sets as they are in the original dataset.\n",
        "Create a k-NN classifier with 7 neighbors and fit it to the training data.\n",
        "Compute and print the accuracy of the classifier's predictions using the .score() method."
      ]
    },
    {
      "cell_type": "code",
      "metadata": {
        "colab": {
          "base_uri": "https://localhost:8080/"
        },
        "id": "wC6Wq8BjOSBh",
        "outputId": "872ffa9d-934e-43f3-cced-4e53c607f184"
      },
      "source": [
        "# Import necessary modules\n",
        "from sklearn.neighbors import KNeighborsClassifier\n",
        "from sklearn.model_selection import train_test_split\n",
        "\n",
        "# Create feature and target arrays\n",
        "X = digits.data\n",
        "y = digits.target\n",
        "\n",
        "# Split into training and test set\n",
        "X_train, X_test, y_train, y_test = train_test_split(X, y, test_size = 0.2, random_state=42, stratify=y)\n",
        "\n",
        "# Create a k-NN classifier with 7 neighbors: knn\n",
        "knn = KNeighborsClassifier(n_neighbors=7)\n",
        "\n",
        "# Fit the classifier to the training data\n",
        "knn.fit(X_train,y_train)\n",
        "\n",
        "# Print the accuracy\n",
        "print(knn.score(X_test, y_test))\n"
      ],
      "execution_count": 47,
      "outputs": [
        {
          "output_type": "stream",
          "text": [
            "0.9833333333333333\n"
          ],
          "name": "stdout"
        }
      ]
    },
    {
      "cell_type": "markdown",
      "metadata": {
        "id": "uNixhoBuUo3i"
      },
      "source": [
        "### Overfitting and underfitting\n",
        "Remember the model complexity curve that Hugo showed in the video? You will now construct such a curve for the digits dataset! In this exercise, you will compute and plot the training and testing accuracy scores for a variety of different neighbor values. By observing how the accuracy scores differ for the training and testing sets with different values of k, you will develop your intuition for overfitting and underfitting.\n",
        "\n",
        "The training and testing sets are available to you in the workspace as X_train, X_test, y_train, y_test. In addition, KNeighborsClassifier has been imported from sklearn.neighbors.\n",
        "\n",
        "Instructions\n",
        "\n",
        "Inside the for loop:\n",
        "Setup a k-NN classifier with the number of neighbors equal to k.\n",
        "Fit the classifier with k neighbors to the training data.\n",
        "Compute accuracy scores the training set and test set separately using the .score() method and assign the results to the train_accuracy and test_accuracy arrays respectively."
      ]
    },
    {
      "cell_type": "code",
      "metadata": {
        "colab": {
          "base_uri": "https://localhost:8080/",
          "height": 299
        },
        "id": "jrzOcOMaT9N-",
        "outputId": "cb8ee9c2-c6d1-4f38-bc0e-1c8834039058"
      },
      "source": [
        "# Setup arrays to store train and test accuracies\n",
        "neighbors = np.arange(1, 9)\n",
        "train_accuracy = np.empty(len(neighbors))\n",
        "test_accuracy = np.empty(len(neighbors))\n",
        "\n",
        "# Loop over different values of k\n",
        "for i, k in enumerate(neighbors):\n",
        "    # Setup a k-NN Classifier with k neighbors: knn\n",
        "    knn = KNeighborsClassifier(n_neighbors=k)\n",
        "\n",
        "    # Fit the classifier to the training data\n",
        "    knn.fit(X_train,y_train)\n",
        "    \n",
        "    #Compute accuracy on the training set\n",
        "    train_accuracy[i] = knn.score(X_train, y_train)\n",
        "\n",
        "    #Compute accuracy on the testing set\n",
        "    test_accuracy[i] = knn.score(X_test, y_test)\n",
        "\n",
        "# Generate plot\n",
        "plt.title('k-NN: Varying Number of Neighbors')\n",
        "plt.plot(neighbors, test_accuracy, label = 'Testing Accuracy')\n",
        "plt.plot(neighbors, train_accuracy, label = 'Training Accuracy')\n",
        "plt.legend()\n",
        "plt.xlabel('Number of Neighbors')\n",
        "plt.ylabel('Accuracy')\n",
        "plt.show() # We can see that the model is good from k being 1 to 3 \n"
      ],
      "execution_count": 48,
      "outputs": [
        {
          "output_type": "display_data",
          "data": {
            "image/png": "[encoded data removed]",
            "text/plain": [
              "<Figure size 432x288 with 1 Axes>"
            ]
          },
          "metadata": {
            "tags": []
          }
        }
      ]
    },
    {
      "cell_type": "markdown",
      "metadata": {
        "id": "R0ZxIln_YGok"
      },
      "source": [
        "### Importing data for supervised learning\n",
        "In this chapter, you will work with Gapminder data that we have consolidated into one CSV file available in the workspace as 'gapminder.csv'. Specifically, your goal will be to use this data to predict the life expectancy in a given country based on features such as the country's GDP, fertility rate, and population. As in Chapter 1, the dataset has been preprocessed.\n",
        "\n",
        "Since the target variable here is quantitative, this is a regression problem. To begin, you will fit a linear regression with just one feature: 'fertility', which is the average number of children a woman in a given country gives birth to. In later exercises, you will use all the features to build regression models.\n",
        "\n",
        "Before that, however, you need to import the data and get it into the form needed by scikit-learn. This involves creating feature and target variable arrays. Furthermore, since you are going to use only one feature to begin with, you need to do some reshaping using NumPy's .reshape() method. Don't worry too much about this reshaping right now, but it is something you will have to do occasionally when working with scikit-learn so it is useful to practice.\n",
        "\n",
        "Instructions\n",
        "\n",
        "Import numpy and pandas as their standard aliases.\n",
        "Read the file 'gapminder.csv' into a DataFrame df using the read_csv() function.\n",
        "Create array X for the 'fertility' feature and array y for the 'life' target variable.\n",
        "Reshape the arrays by using the .reshape() method and passing in -1 and 1."
      ]
    },
    {
      "cell_type": "code",
      "metadata": {
        "id": "rRiiEaDuNUFY",
        "colab": {
          "base_uri": "https://localhost:8080/"
        },
        "outputId": "9cebc84e-07be-41f0-f8c7-59339c4f2049"
      },
      "source": [
        "\n",
        "# Read the CSV file into a DataFrame: df\n",
        "df = pd.read_csv('/content/drive/MyDrive/datasets/Supervised Learning with scikit-learn/gm_2008_region.csv')\n",
        "\n",
        "# Create arrays for features and target variable\n",
        "y = df['life'].values\n",
        "X = df['fertility'].values\n",
        "\n",
        "# Print the dimensions of X and y before reshaping\n",
        "print(X,y)\n",
        "print(\"Dimensions of y before reshaping: {}\".format(y.shape))\n",
        "print(\"Dimensions of X before reshaping: {}\".format(X.shape))\n",
        "\n",
        "# Reshape X and y\n",
        "y = y.reshape(-1,1)\n",
        "X = X.reshape(-1,1)\n",
        "\n",
        "# Print the dimensions of X and y after reshaping\n",
        "print(X,y)\n",
        "print(\"Dimensions of y after reshaping: {}\".format(y.shape))\n",
        "print(\"Dimensions of X after reshaping: {}\".format(X.shape))\n"
      ],
      "execution_count": 49,
      "outputs": [
        {
          "output_type": "stream",
          "text": [
            "[2.73 6.43 2.24 1.4  1.96 1.41 1.99 1.89 2.38 1.83 1.42 1.82 2.91 5.27\n",
            " 2.51 3.48 2.86 1.9  1.43 6.04 6.48 3.05 5.17 1.68 6.81 1.89 2.43 5.05\n",
            " 5.1  1.91 4.91 1.43 1.5  1.89 3.76 2.73 2.95 2.32 5.31 5.16 1.62 2.74\n",
            " 1.85 1.97 4.28 5.8  1.79 1.37 4.19 1.46 4.12 5.34 5.25 2.74 3.5  3.27\n",
            " 1.33 2.12 2.64 2.48 1.88 2.   2.92 1.39 2.39 1.34 2.51 4.76 1.5  1.57\n",
            " 3.34 5.19 1.42 1.63 4.79 5.78 2.05 2.38 6.82 1.38 4.94 1.58 2.35 1.49\n",
            " 2.37 2.44 5.54 2.05 2.9  1.77 2.12 2.72 7.59 6.02 1.96 2.89 3.58 2.61\n",
            " 4.07 3.06 2.58 3.26 1.33 1.36 2.2  1.34 1.49 5.06 5.11 1.41 5.13 1.28\n",
            " 1.31 1.43 7.06 2.54 1.42 2.32 4.79 2.41 3.7  1.92 1.47 3.7  5.54 1.48\n",
            " 4.88 1.8  2.04 2.15 6.34 1.38 1.87 2.07 2.11 2.46 1.86 5.88 3.85] [75.3 58.3 75.5 72.5 81.5 80.4 70.6 72.2 68.4 75.3 70.1 79.4 70.7 63.2\n",
            " 67.6 70.9 61.2 73.9 73.2 59.4 57.4 66.2 56.6 80.7 54.8 78.9 75.1 62.6\n",
            " 58.6 79.7 55.9 76.5 77.8 78.7 61.  74.  70.1 74.1 56.7 60.4 74.  65.7\n",
            " 79.4 81.  57.5 62.2 72.1 80.  62.7 79.5 70.8 58.3 51.3 63.  61.7 70.9\n",
            " 73.8 82.  64.4 69.5 76.9 79.4 80.9 81.4 75.5 82.6 66.1 61.5 72.3 77.6\n",
            " 45.2 61.  72.  80.7 63.4 51.4 74.5 78.2 55.8 81.4 63.6 72.1 75.7 69.6\n",
            " 63.2 73.3 55.  60.8 68.6 80.3 80.2 75.2 59.7 58.  80.7 74.6 64.1 77.1\n",
            " 58.2 73.6 76.8 69.4 75.3 79.2 80.4 73.4 67.6 62.2 64.3 76.4 55.9 80.9\n",
            " 74.8 78.5 56.7 55.  81.1 74.3 67.4 69.1 46.1 81.1 81.9 69.5 59.7 74.1\n",
            " 60.  71.3 76.5 75.1 57.2 68.2 79.5 78.2 76.  68.7 75.4 52.  49. ]\n",
            "Dimensions of y before reshaping: (139,)\n",
            "Dimensions of X before reshaping: (139,)\n",
            "[[2.73]\n",
            " [6.43]\n",
            " [2.24]\n",
            " [1.4 ]\n",
            " [1.96]\n",
            " [1.41]\n",
            " [1.99]\n",
            " [1.89]\n",
            " [2.38]\n",
            " [1.83]\n",
            " [1.42]\n",
            " [1.82]\n",
            " [2.91]\n",
            " [5.27]\n",
            " [2.51]\n",
            " [3.48]\n",
            " [2.86]\n",
            " [1.9 ]\n",
            " [1.43]\n",
            " [6.04]\n",
            " [6.48]\n",
            " [3.05]\n",
            " [5.17]\n",
            " [1.68]\n",
            " [6.81]\n",
            " [1.89]\n",
            " [2.43]\n",
            " [5.05]\n",
            " [5.1 ]\n",
            " [1.91]\n",
            " [4.91]\n",
            " [1.43]\n",
            " [1.5 ]\n",
            " [1.89]\n",
            " [3.76]\n",
            " [2.73]\n",
            " [2.95]\n",
            " [2.32]\n",
            " [5.31]\n",
            " [5.16]\n",
            " [1.62]\n",
            " [2.74]\n",
            " [1.85]\n",
            " [1.97]\n",
            " [4.28]\n",
            " [5.8 ]\n",
            " [1.79]\n",
            " [1.37]\n",
            " [4.19]\n",
            " [1.46]\n",
            " [4.12]\n",
            " [5.34]\n",
            " [5.25]\n",
            " [2.74]\n",
            " [3.5 ]\n",
            " [3.27]\n",
            " [1.33]\n",
            " [2.12]\n",
            " [2.64]\n",
            " [2.48]\n",
            " [1.88]\n",
            " [2.  ]\n",
            " [2.92]\n",
            " [1.39]\n",
            " [2.39]\n",
            " [1.34]\n",
            " [2.51]\n",
            " [4.76]\n",
            " [1.5 ]\n",
            " [1.57]\n",
            " [3.34]\n",
            " [5.19]\n",
            " [1.42]\n",
            " [1.63]\n",
            " [4.79]\n",
            " [5.78]\n",
            " [2.05]\n",
            " [2.38]\n",
            " [6.82]\n",
            " [1.38]\n",
            " [4.94]\n",
            " [1.58]\n",
            " [2.35]\n",
            " [1.49]\n",
            " [2.37]\n",
            " [2.44]\n",
            " [5.54]\n",
            " [2.05]\n",
            " [2.9 ]\n",
            " [1.77]\n",
            " [2.12]\n",
            " [2.72]\n",
            " [7.59]\n",
            " [6.02]\n",
            " [1.96]\n",
            " [2.89]\n",
            " [3.58]\n",
            " [2.61]\n",
            " [4.07]\n",
            " [3.06]\n",
            " [2.58]\n",
            " [3.26]\n",
            " [1.33]\n",
            " [1.36]\n",
            " [2.2 ]\n",
            " [1.34]\n",
            " [1.49]\n",
            " [5.06]\n",
            " [5.11]\n",
            " [1.41]\n",
            " [5.13]\n",
            " [1.28]\n",
            " [1.31]\n",
            " [1.43]\n",
            " [7.06]\n",
            " [2.54]\n",
            " [1.42]\n",
            " [2.32]\n",
            " [4.79]\n",
            " [2.41]\n",
            " [3.7 ]\n",
            " [1.92]\n",
            " [1.47]\n",
            " [3.7 ]\n",
            " [5.54]\n",
            " [1.48]\n",
            " [4.88]\n",
            " [1.8 ]\n",
            " [2.04]\n",
            " [2.15]\n",
            " [6.34]\n",
            " [1.38]\n",
            " [1.87]\n",
            " [2.07]\n",
            " [2.11]\n",
            " [2.46]\n",
            " [1.86]\n",
            " [5.88]\n",
            " [3.85]] [[75.3]\n",
            " [58.3]\n",
            " [75.5]\n",
            " [72.5]\n",
            " [81.5]\n",
            " [80.4]\n",
            " [70.6]\n",
            " [72.2]\n",
            " [68.4]\n",
            " [75.3]\n",
            " [70.1]\n",
            " [79.4]\n",
            " [70.7]\n",
            " [63.2]\n",
            " [67.6]\n",
            " [70.9]\n",
            " [61.2]\n",
            " [73.9]\n",
            " [73.2]\n",
            " [59.4]\n",
            " [57.4]\n",
            " [66.2]\n",
            " [56.6]\n",
            " [80.7]\n",
            " [54.8]\n",
            " [78.9]\n",
            " [75.1]\n",
            " [62.6]\n",
            " [58.6]\n",
            " [79.7]\n",
            " [55.9]\n",
            " [76.5]\n",
            " [77.8]\n",
            " [78.7]\n",
            " [61. ]\n",
            " [74. ]\n",
            " [70.1]\n",
            " [74.1]\n",
            " [56.7]\n",
            " [60.4]\n",
            " [74. ]\n",
            " [65.7]\n",
            " [79.4]\n",
            " [81. ]\n",
            " [57.5]\n",
            " [62.2]\n",
            " [72.1]\n",
            " [80. ]\n",
            " [62.7]\n",
            " [79.5]\n",
            " [70.8]\n",
            " [58.3]\n",
            " [51.3]\n",
            " [63. ]\n",
            " [61.7]\n",
            " [70.9]\n",
            " [73.8]\n",
            " [82. ]\n",
            " [64.4]\n",
            " [69.5]\n",
            " [76.9]\n",
            " [79.4]\n",
            " [80.9]\n",
            " [81.4]\n",
            " [75.5]\n",
            " [82.6]\n",
            " [66.1]\n",
            " [61.5]\n",
            " [72.3]\n",
            " [77.6]\n",
            " [45.2]\n",
            " [61. ]\n",
            " [72. ]\n",
            " [80.7]\n",
            " [63.4]\n",
            " [51.4]\n",
            " [74.5]\n",
            " [78.2]\n",
            " [55.8]\n",
            " [81.4]\n",
            " [63.6]\n",
            " [72.1]\n",
            " [75.7]\n",
            " [69.6]\n",
            " [63.2]\n",
            " [73.3]\n",
            " [55. ]\n",
            " [60.8]\n",
            " [68.6]\n",
            " [80.3]\n",
            " [80.2]\n",
            " [75.2]\n",
            " [59.7]\n",
            " [58. ]\n",
            " [80.7]\n",
            " [74.6]\n",
            " [64.1]\n",
            " [77.1]\n",
            " [58.2]\n",
            " [73.6]\n",
            " [76.8]\n",
            " [69.4]\n",
            " [75.3]\n",
            " [79.2]\n",
            " [80.4]\n",
            " [73.4]\n",
            " [67.6]\n",
            " [62.2]\n",
            " [64.3]\n",
            " [76.4]\n",
            " [55.9]\n",
            " [80.9]\n",
            " [74.8]\n",
            " [78.5]\n",
            " [56.7]\n",
            " [55. ]\n",
            " [81.1]\n",
            " [74.3]\n",
            " [67.4]\n",
            " [69.1]\n",
            " [46.1]\n",
            " [81.1]\n",
            " [81.9]\n",
            " [69.5]\n",
            " [59.7]\n",
            " [74.1]\n",
            " [60. ]\n",
            " [71.3]\n",
            " [76.5]\n",
            " [75.1]\n",
            " [57.2]\n",
            " [68.2]\n",
            " [79.5]\n",
            " [78.2]\n",
            " [76. ]\n",
            " [68.7]\n",
            " [75.4]\n",
            " [52. ]\n",
            " [49. ]]\n",
            "Dimensions of y after reshaping: (139, 1)\n",
            "Dimensions of X after reshaping: (139, 1)\n"
          ],
          "name": "stdout"
        }
      ]
    },
    {
      "cell_type": "code",
      "metadata": {
        "colab": {
          "base_uri": "https://localhost:8080/",
          "height": 351
        },
        "id": "s0rN6zgsNqDP",
        "outputId": "03b9bdea-a9d3-4a8e-a0f2-adf02ae8b973"
      },
      "source": [
        "sns.heatmap(df.corr(), square=True, cmap='RdYlGn')"
      ],
      "execution_count": 50,
      "outputs": [
        {
          "output_type": "execute_result",
          "data": {
            "text/plain": [
              "<matplotlib.axes._subplots.AxesSubplot at 0x7f6858aab588>"
            ]
          },
          "metadata": {
            "tags": []
          },
          "execution_count": 50
        },
        {
          "output_type": "display_data",
          "data": {
            "image/png": "[encoded data removed]",
            "text/plain": [
              "<Figure size 432x288 with 2 Axes>"
            ]
          },
          "metadata": {
            "tags": []
          }
        }
      ]
    },
    {
      "cell_type": "code",
      "metadata": {
        "id": "K6Ukro0fYc4O",
        "colab": {
          "base_uri": "https://localhost:8080/",
          "height": 282
        },
        "outputId": "c4f330fc-763c-4e52-d984-3b13a5b724b6"
      },
      "source": [
        "plt.scatter(df['fertility'],df['life'])\n",
        "plt.xlabel(\"fertility\")\n",
        "plt.ylabel(\"Life\")\n",
        "plt.show()"
      ],
      "execution_count": 52,
      "outputs": [
        {
          "output_type": "display_data",
          "data": {
            "image/png": "[encoded data removed]",
            "text/plain": [
              "<Figure size 432x288 with 1 Axes>"
            ]
          },
          "metadata": {
            "tags": []
          }
        }
      ]
    },
    {
      "cell_type": "markdown",
      "metadata": {
        "id": "tocIHAX9hK8h"
      },
      "source": [
        "### Fit & predict for regression\n",
        "Now, you will fit a linear regression and predict life expectancy using just one feature. You saw Andy do this earlier using the 'RM' feature of the Boston housing dataset. In this exercise, you will use the 'fertility' feature of the Gapminder dataset. Since the goal is to predict life expectancy, the target variable here is 'life'. The array for the target variable has been pre-loaded as y and the array for 'fertility' has been pre-loaded as X_fertility.\n",
        "\n",
        "A scatter plot with 'fertility' on the x-axis and 'life' on the y-axis has been generated. As you can see, there is a strongly negative correlation, so a linear regression should be able to capture this trend. Your job is to fit a linear regression and then predict the life expectancy, overlaying these predicted values on the plot to generate a regression line. You will also compute and print the  score using sckit-learn's .score() method.\n",
        "\n",
        "Instructions\n",
        "\n",
        "Import LinearRegression from sklearn.linear_model.\n",
        "Create a LinearRegression regressor called reg.\n",
        "Set up the prediction space to range from the minimum to the maximum of X_fertility. This has been done for you.\n",
        "Fit the regressor to the data (X_fertility and y) and compute its predictions using the .predict() method and the prediction_space array.\n",
        "Compute and print the  score using the .score() method.\n",
        "Overlay the plot with your linear regression line. This has been done for you, so hit 'Submit Answer' to see the result!"
      ]
    },
    {
      "cell_type": "code",
      "metadata": {
        "colab": {
          "base_uri": "https://localhost:8080/",
          "height": 1000
        },
        "id": "ciO9ggkyf1SM",
        "outputId": "201679d5-d7be-4cc9-b25e-7e716762a9ba"
      },
      "source": [
        "y = df['life'].values\n",
        "X_fertility = df['fertility'].values.reshape(-1,1)\n",
        "# Import LinearRegression\n",
        "from sklearn.linear_model import LinearRegression\n",
        "\n",
        "# Create the regressor: reg\n",
        "reg = LinearRegression()\n",
        "\n",
        "# Create the prediction space\n",
        "prediction_space = np.linspace(min(X_fertility), max(X_fertility)).reshape(-1,1)\n",
        "print(prediction_space)\n",
        "# Fit the model to the data\n",
        "reg.fit(X_fertility,y)\n",
        "\n",
        "# Compute predictions over the prediction space: y_pred\n",
        "y_pred = reg.predict(prediction_space)\n",
        "\n",
        "# Print R^2 \n",
        "print(reg.score(X_fertility, y))\n",
        "\n",
        "# Plot regression line\n",
        "plt.scatter(df['fertility'],df['life'])\n",
        "plt.plot(prediction_space, y_pred, color='black', linewidth=3)\n",
        "plt.show()\n"
      ],
      "execution_count": 70,
      "outputs": [
        {
          "output_type": "stream",
          "text": [
            "[[1.28      ]\n",
            " [1.40877551]\n",
            " [1.53755102]\n",
            " [1.66632653]\n",
            " [1.79510204]\n",
            " [1.92387755]\n",
            " [2.05265306]\n",
            " [2.18142857]\n",
            " [2.31020408]\n",
            " [2.43897959]\n",
            " [2.5677551 ]\n",
            " [2.69653061]\n",
            " [2.82530612]\n",
            " [2.95408163]\n",
            " [3.08285714]\n",
            " [3.21163265]\n",
            " [3.34040816]\n",
            " [3.46918367]\n",
            " [3.59795918]\n",
            " [3.72673469]\n",
            " [3.8555102 ]\n",
            " [3.98428571]\n",
            " [4.11306122]\n",
            " [4.24183673]\n",
            " [4.37061224]\n",
            " [4.49938776]\n",
            " [4.62816327]\n",
            " [4.75693878]\n",
            " [4.88571429]\n",
            " [5.0144898 ]\n",
            " [5.14326531]\n",
            " [5.27204082]\n",
            " [5.40081633]\n",
            " [5.52959184]\n",
            " [5.65836735]\n",
            " [5.78714286]\n",
            " [5.91591837]\n",
            " [6.04469388]\n",
            " [6.17346939]\n",
            " [6.3022449 ]\n",
            " [6.43102041]\n",
            " [6.55979592]\n",
            " [6.68857143]\n",
            " [6.81734694]\n",
            " [6.94612245]\n",
            " [7.07489796]\n",
            " [7.20367347]\n",
            " [7.33244898]\n",
            " [7.46122449]\n",
            " [7.59      ]]\n",
            "0.6192442167740035\n"
          ],
          "name": "stdout"
        },
        {
          "output_type": "display_data",
          "data": {
            "image/png": "[encoded data removed]",
            "text/plain": [
              "<Figure size 432x288 with 1 Axes>"
            ]
          },
          "metadata": {
            "tags": []
          }
        }
      ]
    },
    {
      "cell_type": "code",
      "metadata": {
        "id": "5ZDd2xEMhYVK"
      },
      "source": [
        "X= df.drop(['life','Region'],axis=1).values\n",
        "y= df['life']"
      ],
      "execution_count": 62,
      "outputs": []
    },
    {
      "cell_type": "code",
      "metadata": {
        "colab": {
          "base_uri": "https://localhost:8080/"
        },
        "id": "bH0vPQdQiG-F",
        "outputId": "d528e7c5-d6bd-4266-9988-56fe7274086a"
      },
      "source": [
        "y"
      ],
      "execution_count": 64,
      "outputs": [
        {
          "output_type": "execute_result",
          "data": {
            "text/plain": [
              "0      75.3\n",
              "1      58.3\n",
              "2      75.5\n",
              "3      72.5\n",
              "4      81.5\n",
              "       ... \n",
              "134    76.0\n",
              "135    68.7\n",
              "136    75.4\n",
              "137    52.0\n",
              "138    49.0\n",
              "Name: life, Length: 139, dtype: float64"
            ]
          },
          "metadata": {
            "tags": []
          },
          "execution_count": 64
        }
      ]
    },
    {
      "cell_type": "markdown",
      "metadata": {
        "id": "IQv9NFwpjeEV"
      },
      "source": [
        "### Train/test split for regression\n",
        "As you learned in Chapter 1, train and test sets are vital to ensure that your supervised learning model is able to generalize well to new data. This was true for classification models, and is equally true for linear regression models.\n",
        "\n",
        "In this exercise, you will split the Gapminder dataset into training and testing sets, and then fit and predict a linear regression over all features. In addition to computing the  score, you will also compute the Root Mean Squared Error (RMSE), which is another commonly used metric to evaluate regression models. The feature array X and target variable array y have been pre-loaded for you from the DataFrame df.\n",
        "\n",
        "Instructions\n",
        "\n",
        "Import LinearRegression from sklearn.linear_model, mean_squared_error from sklearn.metrics, and train_test_split from sklearn.model_selection.\n",
        "Using X and y, create training and test sets such that 30% is used for testing and 70% for training. Use a random state of 42.\n",
        "Create a linear regression regressor called reg_all, fit it to the training set, and evaluate it on the test set.\n",
        "Compute and print the  score using the .score() method on the test set.\n",
        "Compute and print the RMSE. To do this, first compute the Mean Squared Error using the mean_squared_error() function with the arguments y_test and y_pred, and then take its square root using np.sqrt()."
      ]
    },
    {
      "cell_type": "code",
      "metadata": {
        "colab": {
          "base_uri": "https://localhost:8080/"
        },
        "id": "SF19AMBxiHut",
        "outputId": "af2cf4d1-d44a-41e4-d95a-204aede461c0"
      },
      "source": [
        "# Import necessary modules\n",
        "from sklearn.linear_model import LinearRegression\n",
        "from sklearn.metrics import mean_squared_error\n",
        "from sklearn.model_selection import train_test_split\n",
        "\n",
        "# Create training and test sets\n",
        "X_train, X_test, y_train, y_test = train_test_split(X, y, test_size = 0.3, random_state=42)\n",
        "print(X_train, X_test, y_train, y_test )\n",
        "# Create the regressor: reg_all\n",
        "reg_all = LinearRegression()\n",
        "\n",
        "# Fit the regressor to the training data\n",
        "reg_all.fit(X_train,y_train)\n",
        "\n",
        "# Predict on the test data: y_pred\n",
        "y_pred = reg_all.predict(X_test)\n",
        "\n",
        "# Compute and print R^2 and RMSE\n",
        "print(\"R^2: {}\".format(reg_all.score(X_test, y_test)))\n",
        "rmse = np.sqrt(mean_squared_error(y_test,y_pred))\n",
        "print(\"Root Mean Squared Error: {}\".format(rmse))\n",
        "\n"
      ],
      "execution_count": 68,
      "outputs": [
        {
          "output_type": "stream",
          "text": [
            "[[1.33994100e+06 1.62000000e+00 1.20000000e+00 1.30313789e+01\n",
            "  2.62644600e+01 2.47430000e+04 1.29516100e+02 5.50000000e+00]\n",
            " [1.11397400e+07 6.81000000e+00 3.40000000e+00 4.78391264e-02\n",
            "  2.14856900e+01 1.75300000e+03 1.27864000e+02 1.68000000e+02]\n",
            " [2.71734400e+06 2.39000000e+00 1.70000000e+00 4.39145647e+00\n",
            "  2.40042100e+01 8.95100000e+03 1.25368500e+02 1.89000000e+01]\n",
            " [6.64532550e+07 1.48000000e+00 1.30000000e+00 3.83510189e+00\n",
            "  2.30080300e+01 1.22160000e+04 1.20496900e+02 1.56000000e+01]\n",
            " [1.31145790e+07 5.88000000e+00 1.36000000e+01 1.48981514e-01\n",
            "  2.06832100e+01 3.03900000e+03 1.32449300e+02 9.49000000e+01]\n",
            " [1.47374100e+06 4.28000000e+00 5.30000000e+00 1.07953932e+00\n",
            "  2.40762000e+01 1.58000000e+04 1.30362500e+02 6.80000000e+01]\n",
            " [9.59991600e+06 3.48000000e+00 2.00000000e-01 1.43182915e+00\n",
            "  2.44333500e+01 5.06600000e+03 1.22415500e+02 5.20000000e+01]\n",
            " [1.22297030e+07 5.11000000e+00 8.00000000e-01 4.61633711e-01\n",
            "  2.19274300e+01 2.16200000e+03 1.30279500e+02 7.58000000e+01]\n",
            " [4.50063800e+06 5.16000000e+00 8.00000000e-01 8.37456442e-02\n",
            "  2.08850900e+01 1.08800000e+03 1.25794800e+02 6.04000000e+01]\n",
            " [1.95704180e+07 5.17000000e+00 5.30000000e+00 2.95541639e-01\n",
            "  2.36817300e+01 2.57100000e+03 1.27282300e+02 1.13800000e+02]\n",
            " [5.52183800e+06 5.13000000e+00 1.60000000e+00 1.18255775e-01\n",
            "  2.25313900e+01 1.28900000e+03 1.34716000e+02 1.79100000e+02]\n",
            " [4.84964100e+06 1.28000000e+00 1.00000000e-01 4.11444075e+00\n",
            "  2.38399600e+01 6.59910000e+04 1.21173600e+02 2.80000000e+00]\n",
            " [1.31537200e+06 1.80000000e+00 1.50000000e+00 3.19577173e+01\n",
            "  2.63966900e+01 3.08750000e+04 1.24993900e+02 2.49000000e+01]\n",
            " [8.06659060e+07 1.37000000e+00 1.00000000e-01 9.49724676e+00\n",
            "  2.71650900e+01 4.11990000e+04 1.24904400e+02 4.40000000e+00]\n",
            " [1.92616470e+07 4.91000000e+00 3.70000000e+00 3.61896603e-01\n",
            "  2.25646900e+01 2.85400000e+03 1.31523700e+02 1.16900000e+02]\n",
            " [1.14972821e+08 2.35000000e+00 3.00000000e-01 4.26117187e+00\n",
            "  2.74246800e+01 1.58260000e+04 1.22121600e+02 1.79000000e+01]\n",
            " [1.15375000e+06 3.70000000e+00 2.59000000e+01 9.49860795e-01\n",
            "  2.31696900e+01 5.88700000e+03 1.31879300e+02 1.12200000e+02]\n",
            " [2.77315000e+05 1.83000000e+00 1.30000000e+00 6.00827884e+00\n",
            "  2.63843900e+01 1.60750000e+04 1.26394000e+02 1.54000000e+01]\n",
            " [5.49530200e+06 1.89000000e+00 2.00000000e-01 8.54150780e+00\n",
            "  2.61328700e+01 4.50170000e+04 1.19581500e+02 4.30000000e+00]\n",
            " [2.71974190e+07 2.05000000e+00 5.00000000e-01 7.75223395e+00\n",
            "  2.47306900e+01 1.99680000e+04 1.23859300e+02 8.00000000e+00]\n",
            " [1.66459400e+07 1.89000000e+00 4.00000000e-01 4.24025914e+00\n",
            "  2.70154200e+01 1.86980000e+04 1.25541700e+02 8.90000000e+00]\n",
            " [3.13505440e+07 2.44000000e+00 1.00000000e-01 1.59408314e+00\n",
            "  2.56318200e+01 6.09100000e+03 1.26528400e+02 3.58000000e+01]\n",
            " [7.09380800e+06 2.92000000e+00 2.00000000e-01 1.00011881e+01\n",
            "  2.71315100e+01 2.85620000e+04 1.21083800e+02 4.90000000e+00]\n",
            " [3.82444420e+07 4.76000000e+00 6.30000000e+00 2.66308378e-01\n",
            "  2.15925800e+01 2.35800000e+03 1.29934100e+02 7.10000000e+01]\n",
            " [3.21026000e+05 2.38000000e+00 6.00000000e-02 3.27772577e+00\n",
            "  2.32199100e+01 1.20290000e+04 1.23322300e+02 1.60000000e+01]\n",
            " [7.48096000e+05 2.74000000e+00 1.20000000e+00 2.07341531e+00\n",
            "  2.36846500e+01 5.20800000e+03 1.25151200e+02 4.19000000e+01]\n",
            " [8.33146500e+06 1.41000000e+00 3.00000000e-01 8.18316002e+00\n",
            "  2.64674100e+01 4.39520000e+04 1.24139400e+02 4.60000000e+00]\n",
            " [2.86420480e+07 2.58000000e+00 4.00000000e-01 1.45013444e+00\n",
            "  2.47704100e+01 9.24900000e+03 1.19636800e+02 2.32000000e+01]\n",
            " [2.62966600e+06 2.37000000e+00 6.00000000e-02 3.75948682e+00\n",
            "  2.48838500e+01 7.56300000e+03 1.29750400e+02 3.48000000e+01]\n",
            " [1.11617550e+07 1.46000000e+00 1.00000000e-01 8.66123553e+00\n",
            "  2.63378600e+01 3.21970000e+04 1.22934200e+02 4.90000000e+00]\n",
            " [1.44476000e+07 2.73000000e+00 4.00000000e-01 2.11051780e+00\n",
            "  2.55884100e+01 9.24400000e+03 1.22986400e+02 2.68000000e+01]\n",
            " [8.09639000e+05 3.76000000e+00 2.60000000e+00 6.12799524e-01\n",
            "  2.33840300e+01 2.50200000e+03 1.29337600e+02 8.10000000e+01]\n",
            " [1.63096985e+08 3.58000000e+00 1.00000000e-01 9.35618056e-01\n",
            "  2.22991400e+01 4.18700000e+03 1.26519600e+02 9.55000000e+01]\n",
            " [3.48587000e+05 1.89000000e+00 3.10000000e+00 3.13192132e+00\n",
            "  2.72459400e+01 2.43730000e+04 1.24386200e+02 1.45000000e+01]\n",
            " [6.23095290e+07 1.97000000e+00 4.00000000e-01 5.99902073e+00\n",
            "  2.58532900e+01 3.75050000e+04 1.20014600e+02 4.30000000e+00]\n",
            " [1.97219400e+06 3.34000000e+00 2.36000000e+01 8.61766942e-03\n",
            "  2.19015700e+01 2.04100000e+03 1.31136100e+02 1.14200000e+02]\n",
            " [4.11116800e+06 1.49000000e+00 4.00000000e-01 1.31332119e+00\n",
            "  2.42369000e+01 3.89000000e+03 1.29942400e+02 1.76000000e+01]\n",
            " [1.04080910e+07 2.04000000e+00 6.00000000e-02 2.44066948e+00\n",
            "  2.51569900e+01 9.93800000e+03 1.28629100e+02 1.94000000e+01]\n",
            " [7.64654200e+06 1.47000000e+00 4.00000000e-01 5.33305762e+00\n",
            "  2.62019500e+01 5.50200000e+04 1.19646500e+02 4.70000000e+00]\n",
            " [1.48252473e+08 2.38000000e+00 6.00000000e-02 3.19161002e-01\n",
            "  2.03974200e+01 2.26500000e+03 1.25030700e+02 5.59000000e+01]\n",
            " [8.97352500e+06 5.27000000e+00 1.20000000e+00 5.37539184e-01\n",
            "  2.24183500e+01 1.64600000e+03 1.30272300e+02 1.16300000e+02]\n",
            " [9.02971150e+07 3.26000000e+00 6.00000000e-02 8.42120697e-01\n",
            "  2.28726300e+01 5.33200000e+03 1.22345900e+02 3.34000000e+01]\n",
            " [2.97502900e+06 1.40000000e+00 1.00000000e-01 1.80410622e+00\n",
            "  2.53554200e+01 7.38300000e+03 1.32810800e+02 2.00000000e+01]\n",
            " [1.94769696e+08 1.90000000e+00 4.50000000e-01 2.02377284e+00\n",
            "  2.57862300e+01 1.39060000e+04 1.24874500e+02 1.86000000e+01]\n",
            " [6.86223000e+05 5.31000000e+00 4.70000000e+00 6.79825323e+00\n",
            "  2.37664000e+01 4.01430000e+04 1.32039200e+02 1.18400000e+02]\n",
            " [3.21980200e+06 1.42000000e+00 1.00000000e-01 4.49848339e+00\n",
            "  2.68610200e+01 2.32230000e+04 1.30822600e+02 8.20000000e+00]\n",
            " [2.03059900e+06 1.43000000e+00 6.00000000e-02 8.51182820e+00\n",
            "  2.74398300e+01 3.08160000e+04 1.29923100e+02 3.70000000e+00]\n",
            " [8.86871300e+06 1.99000000e+00 1.00000000e-01 5.10953829e+00\n",
            "  2.56511700e+01 1.43650000e+04 1.28602400e+02 4.33000000e+01]\n",
            " [4.77163300e+06 1.96000000e+00 1.00000000e-01 1.05297688e+01\n",
            "  2.69342400e+01 6.52160000e+04 1.26026600e+02 3.60000000e+00]\n",
            " [4.28447440e+07 5.54000000e+00 5.80000000e+00 1.54672995e-01\n",
            "  2.24779200e+01 2.03000000e+03 1.30832800e+02 7.24000000e+01]\n",
            " [5.03488110e+07 2.54000000e+00 1.79000000e+01 9.42796037e+00\n",
            "  2.68553800e+01 1.22630000e+04 1.30994900e+02 6.61000000e+01]\n",
            " [9.70513000e+06 3.50000000e+00 2.00000000e+00 2.49306755e-01\n",
            "  2.36630200e+01 1.60000000e+03 1.25346100e+02 8.33000000e+01]\n",
            " [1.41066870e+07 4.12000000e+00 8.00000000e-01 8.35594820e-01\n",
            "  2.52994700e+01 6.96000000e+03 1.20959600e+02 3.69000000e+01]\n",
            " [3.49867900e+06 2.61000000e+00 9.00000000e-01 2.22379634e+00\n",
            "  2.62695900e+01 1.40330000e+04 1.22682900e+02 2.10000000e+01]\n",
            " [4.34329000e+06 1.79000000e+00 1.00000000e-01 1.41942978e+00\n",
            "  2.55494200e+01 5.90000000e+03 1.30578900e+02 1.93000000e+01]\n",
            " [6.54026700e+06 4.07000000e+00 9.00000000e-01 5.30746337e-01\n",
            "  2.50150600e+01 1.98200000e+03 1.20052400e+02 6.97000000e+01]\n",
            " [4.48014500e+06 2.00000000e+00 2.00000000e-01 9.88253103e+00\n",
            "  2.76532500e+01 4.77130000e+04 1.24780100e+02 4.50000000e+00]\n",
            " [8.65893420e+07 1.86000000e+00 4.00000000e-01 1.47934658e+00\n",
            "  2.09163000e+01 4.08500000e+03 1.21936700e+02 2.62000000e+01]\n",
            " [4.06392000e+05 1.38000000e+00 1.00000000e-01 6.18277102e+00\n",
            "  2.76836100e+01 2.78720000e+04 1.24157100e+02 6.60000000e+00]\n",
            " [9.13258900e+06 7.06000000e+00 6.00000000e-01 6.82188892e-02\n",
            "  2.19691700e+01 6.15000000e+02 1.31531800e+02 1.68500000e+02]\n",
            " [5.59452400e+06 2.72000000e+00 2.00000000e-01 7.78151613e-01\n",
            "  2.57729100e+01 4.06000000e+03 1.23479200e+02 2.81000000e+01]\n",
            " [8.43206000e+05 2.74000000e+00 1.00000000e-01 1.27777956e+00\n",
            "  2.65307800e+01 7.12900000e+03 1.27476800e+02 2.40000000e+01]\n",
            " [1.19707011e+09 2.64000000e+00 3.20000000e-01 1.52084942e+00\n",
            "  2.09595600e+01 3.90100000e+03 1.23127400e+02 6.56000000e+01]\n",
            " [4.28538000e+06 2.12000000e+00 1.00000000e-01 8.00908440e+00\n",
            "  2.77689300e+01 3.21220000e+04 1.18742100e+02 6.40000000e+00]\n",
            " [2.31159190e+07 4.19000000e+00 1.80000000e+00 3.66600849e-01\n",
            "  2.28424700e+01 2.90700000e+03 1.28295300e+02 7.99000000e+01]\n",
            " [2.63251830e+07 2.90000000e+00 4.00000000e-01 1.05412983e-01\n",
            "  2.07634400e+01 1.86600000e+03 1.25556100e+02 5.07000000e+01]\n",
            " [5.06657000e+05 2.41000000e+00 1.00000000e+00 4.74113997e+00\n",
            "  2.54988700e+01 1.34700000e+04 1.24635800e+02 2.64000000e+01]\n",
            " [7.25407200e+06 3.70000000e+00 2.00000000e-01 4.53167660e-01\n",
            "  2.37796600e+01 2.00100000e+03 1.29965700e+02 5.62000000e+01]\n",
            " [3.10033000e+05 2.12000000e+00 3.00000000e-01 6.82190305e+00\n",
            "  2.72068700e+01 4.22940000e+04 1.18738100e+02 2.70000000e+00]\n",
            " [1.39046710e+07 5.78000000e+00 1.12000000e+01 8.24698808e-02\n",
            "  2.20346800e+01 6.74000000e+02 1.33939000e+02 1.01100000e+02]\n",
            " [1.12902390e+07 1.50000000e+00 1.00000000e-01 2.70177717e+00\n",
            "  2.50686700e+01 1.77650000e+04 1.26059400e+02 6.30000000e+00]\n",
            " [3.04473143e+08 2.07000000e+00 6.00000000e-01 1.85459917e+01\n",
            "  2.84569800e+01 5.03840000e+04 1.18477700e+02 7.70000000e+00]\n",
            " [2.35360765e+08 2.48000000e+00 2.00000000e-01 1.75504422e+00\n",
            "  2.18557600e+01 7.85600000e+03 1.26421600e+02 3.62000000e+01]\n",
            " [5.93192340e+07 1.39000000e+00 3.00000000e-01 7.46594241e+00\n",
            "  2.64802000e+01 3.74750000e+04 1.23703000e+02 4.10000000e+00]\n",
            " [4.60284760e+07 1.38000000e+00 1.10000000e+00 7.03235908e+00\n",
            "  2.54237900e+01 8.76200000e+03 1.31496200e+02 1.29000000e+01]\n",
            " [6.00419900e+06 2.32000000e+00 8.00000000e-01 1.06776463e+00\n",
            "  2.63675100e+01 7.45000000e+03 1.19932100e+02 2.16000000e+01]\n",
            " [4.42950600e+06 1.91000000e+00 3.00000000e-01 1.91193342e+00\n",
            "  2.64789700e+01 1.22190000e+04 1.21350000e+02 1.03000000e+01]\n",
            " [9.75031400e+06 5.06000000e+00 2.90000000e+00 5.42444698e-02\n",
            "  2.25545300e+01 1.17300000e+03 1.35100500e+02 7.83000000e+01]\n",
            " [7.03443570e+07 2.15000000e+00 6.00000000e-02 4.02190259e+00\n",
            "  2.67037100e+01 1.64540000e+04 1.24067500e+02 2.22000000e+01]\n",
            " [1.98422510e+07 6.43000000e+00 2.00000000e+00 1.47435339e+00\n",
            "  2.22508300e+01 7.10300000e+03 1.30124700e+02 1.92000000e+02]\n",
            " [1.56129300e+06 5.25000000e+00 2.50000000e+00 1.56376432e-01\n",
            "  2.16433800e+01 1.32600000e+03 1.30762700e+02 1.27600000e+02]\n",
            " [1.39336600e+07 3.05000000e+00 6.00000000e-01 2.87547496e-01\n",
            "  2.08049600e+01 2.44200000e+03 1.17552800e+02 5.15000000e+01]\n",
            " [4.03818600e+07 2.24000000e+00 5.00000000e-01 4.78516998e+00\n",
            "  2.75017000e+01 1.46460000e+04 1.18891500e+02 1.54000000e+01]\n",
            " [3.33632560e+07 1.68000000e+00 2.00000000e-01 1.63503986e+01\n",
            "  2.74521000e+01 4.14680000e+04 1.18057100e+02 5.80000000e+00]\n",
            " [1.05774580e+07 1.36000000e+00 5.00000000e-01 5.48692640e+00\n",
            "  2.66844500e+01 2.77470000e+04 1.27263100e+02 4.10000000e+00]\n",
            " [6.04713100e+06 3.06000000e+00 3.00000000e-01 6.98581746e-01\n",
            "  2.55422300e+01 6.68400000e+03 1.23615000e+02 2.57000000e+01]\n",
            " [4.58170160e+07 1.42000000e+00 4.00000000e-01 7.29308876e+00\n",
            "  2.74997500e+01 3.46760000e+04 1.22045300e+02 5.00000000e+00]\n",
            " [5.10300060e+07 2.05000000e+00 6.00000000e-01 1.91053400e-01\n",
            "  2.14493200e+01 2.89100000e+03 1.23142100e+02 8.72000000e+01]\n",
            " [1.99267980e+07 4.79000000e+00 2.00000000e-01 9.94221476e-02\n",
            "  2.14034700e+01 1.52800000e+03 1.32837100e+02 6.67000000e+01]\n",
            " [9.22633300e+06 1.92000000e+00 1.00000000e-01 5.31568840e+00\n",
            "  2.63762900e+01 4.34210000e+04 1.22947300e+02 3.20000000e+00]\n",
            " [1.34954620e+07 3.85000000e+00 1.51000000e+01 6.54323190e-01\n",
            "  2.20266000e+01 1.28600000e+03 1.31974500e+02 9.83000000e+01]\n",
            " [8.82179500e+06 6.48000000e+00 3.50000000e+00 3.13888013e-02\n",
            "  2.15029100e+01 7.23000000e+02 1.34195500e+02 1.08600000e+02]\n",
            " [3.67278200e+06 5.19000000e+00 1.60000000e+00 1.57352183e-01\n",
            "  2.18953700e+01 5.88000000e+02 1.31255500e+02 1.00900000e+02]\n",
            " [1.43123163e+08 1.49000000e+00 1.00000000e+00 1.19827176e+01\n",
            "  2.60113100e+01 2.25060000e+04 1.28490300e+02 1.35000000e+01]\n",
            " [6.94990000e+05 2.51000000e+00 2.00000000e-01 6.01210310e-01\n",
            "  2.28218000e+01 5.66300000e+03 1.25125800e+02 4.81000000e+01]\n",
            " [1.50851300e+07 7.59000000e+00 8.00000000e-01 6.34371088e-02\n",
            "  2.12195800e+01 8.43000000e+02 1.35102100e+02 1.41300000e+02]\n",
            " [3.85257520e+07 1.33000000e+00 1.00000000e-01 8.27076715e+00\n",
            "  2.66738000e+01 1.99960000e+04 1.29676500e+02 6.70000000e+00]] [[2.69527190e+07 2.46000000e+00 1.00000000e-01 4.47666902e+00\n",
            "  2.53205400e+01 3.73300000e+03 1.24346200e+02 4.92000000e+01]\n",
            " [1.59159660e+07 2.51000000e+00 1.00000000e-01 1.47181043e+01\n",
            "  2.62907800e+01 1.87970000e+04 1.28851700e+02 2.59000000e+01]\n",
            " [4.34415100e+06 1.43000000e+00 6.00000000e-02 5.28790258e+00\n",
            "  2.65962900e+01 2.18730000e+04 1.30392100e+02 5.90000000e+00]\n",
            " [3.44701380e+07 4.79000000e+00 1.00000000e+00 3.82117945e-01\n",
            "  2.24048400e+01 3.24600000e+03 1.29719900e+02 8.47000000e+01]\n",
            " [5.31417000e+06 1.85000000e+00 1.00000000e-01 1.06441143e+01\n",
            "  2.67333900e+01 4.21220000e+04 1.26564500e+02 3.30000000e+00]\n",
            " [3.06165000e+05 2.91000000e+00 2.40000000e+00 1.36012592e+00\n",
            "  2.70225500e+01 8.29300000e+03 1.20922400e+02 2.01000000e+01]\n",
            " [1.04273560e+07 5.34000000e+00 1.40000000e+00 1.26964400e-01\n",
            "  2.25244900e+01 1.23000000e+03 1.32276500e+02 1.21000000e+02]\n",
            " [2.14421500e+06 1.50000000e+00 6.00000000e-01 3.34184866e+00\n",
            "  2.64569300e+01 2.09770000e+04 1.29574600e+02 1.05000000e+01]\n",
            " [6.05293700e+06 4.88000000e+00 3.20000000e+00 2.51983337e-01\n",
            "  2.18787500e+01 1.21900000e+03 1.31024800e+02 9.64000000e+01]\n",
            " [7.25947000e+06 3.27000000e+00 8.00000000e-01 1.18745352e+00\n",
            "  2.51087200e+01 4.39100000e+03 1.22962100e+02 2.65000000e+01]\n",
            " [5.39671000e+06 1.31000000e+00 6.00000000e-02 6.90165446e+00\n",
            "  2.69271700e+01 2.46700000e+04 1.29528000e+02 8.80000000e+00]\n",
            " [3.10144270e+07 6.34000000e+00 6.40000000e+00 1.00852839e-01\n",
            "  2.23583300e+01 1.43700000e+03 1.34520400e+02 8.93000000e+01]\n",
            " [3.41455200e+06 4.94000000e+00 7.00000000e-01 6.13103977e-01\n",
            "  2.26229500e+01 3.35600000e+03 1.29987500e+02 1.03000000e+02]\n",
            " [1.47090110e+07 6.04000000e+00 1.20000000e+00 1.09419171e-01\n",
            "  2.12715700e+01 1.35800000e+03 1.30665100e+02 1.30400000e+02]\n",
            " [2.29948670e+07 5.54000000e+00 1.14000000e+01 1.04748301e-01\n",
            "  2.19353600e+01 8.64000000e+02 1.35394900e+02 1.14400000e+02]\n",
            " [4.10938900e+06 1.57000000e+00 1.00000000e-01 3.99672180e+00\n",
            "  2.72011700e+01 1.41580000e+04 1.27503700e+02 1.13000000e+01]\n",
            " [1.07791550e+07 1.82000000e+00 2.00000000e-01 9.79733671e+00\n",
            "  2.67591500e+01 4.16410000e+04 1.21822700e+02 4.70000000e+00]\n",
            " [6.65414000e+05 5.05000000e+00 6.00000000e-02 1.78853064e-01\n",
            "  2.20613100e+01 1.44000000e+03 1.32135400e+02 9.12000000e+01]\n",
            " [3.35083200e+06 2.11000000e+00 5.00000000e-01 2.48976355e+00\n",
            "  2.63912300e+01 1.53170000e+04 1.24260400e+02 1.30000000e+01]\n",
            " [9.10953500e+06 1.41000000e+00 1.00000000e-01 5.27122268e+00\n",
            "  2.65149500e+01 1.25220000e+04 1.30375500e+02 8.00000000e+00]\n",
            " [7.89761220e+07 2.95000000e+00 6.00000000e-02 2.51239420e+00\n",
            "  2.67324300e+01 9.97400000e+03 1.25093100e+02 3.14000000e+01]\n",
            " [1.99495530e+07 2.32000000e+00 6.00000000e-02 5.80791088e-01\n",
            "  2.19667100e+01 6.90700000e+03 1.24861500e+02 1.17000000e+01]\n",
            " [1.42234030e+07 6.82000000e+00 1.00000000e+00 4.10788666e-02\n",
            "  2.17888100e+01 1.60200000e+03 1.28030800e+02 1.48300000e+02]\n",
            " [2.13703480e+07 1.96000000e+00 1.00000000e-01 1.80163133e+01\n",
            "  2.75637300e+01 4.13120000e+04 1.17375500e+02 5.20000000e+00]\n",
            " [4.85079000e+05 1.63000000e+00 3.00000000e-01 2.21680797e+01\n",
            "  2.74340400e+01 9.50010000e+04 1.22370500e+02 2.80000000e+00]\n",
            " [4.49016600e+07 2.43000000e+00 5.00000000e-01 1.47609182e+00\n",
            "  2.49404100e+01 1.04890000e+04 1.24023500e+02 1.97000000e+01]\n",
            " [6.16896200e+07 1.87000000e+00 2.00000000e-01 8.52646682e+00\n",
            "  2.73924900e+01 3.77390000e+04 1.24084500e+02 5.60000000e+00]\n",
            " [7.25306930e+07 1.88000000e+00 2.00000000e-01 7.89221094e+00\n",
            "  2.53100300e+01 1.59550000e+04 1.25185900e+02 2.14000000e+01]\n",
            " [1.96786600e+06 2.86000000e+00 2.49000000e+01 2.54720549e+00\n",
            "  2.21298400e+01 1.38580000e+04 1.33130700e+02 6.38000000e+01]\n",
            " [7.51364600e+06 1.43000000e+00 1.00000000e-01 6.69013908e+00\n",
            "  2.65428600e+01 1.53680000e+04 1.28472100e+02 1.37000000e+01]\n",
            " [9.52645300e+06 1.42000000e+00 2.00000000e-01 6.48817388e+00\n",
            "  2.61644300e+01 1.44880000e+04 1.29796800e+02 7.20000000e+00]\n",
            " [1.00506990e+07 1.33000000e+00 6.00000000e-02 5.45323172e+00\n",
            "  2.71156800e+01 2.33340000e+04 1.28696800e+02 7.20000000e+00]\n",
            " [1.38896200e+06 2.20000000e+00 6.00000000e-02 4.87020615e+01\n",
            "  2.81313800e+01 1.26076000e+05 1.26315300e+02 9.50000000e+00]\n",
            " [1.27317900e+08 1.34000000e+00 6.00000000e-02 9.53660569e+00\n",
            "  2.35000400e+01 3.48000000e+04 1.21965100e+02 3.40000000e+00]\n",
            " [2.07416690e+07 1.34000000e+00 1.00000000e-01 4.38344907e+00\n",
            "  2.54106900e+01 1.80320000e+04 1.28755300e+02 1.61000000e+01]\n",
            " [1.58674900e+06 5.80000000e+00 1.70000000e+00 2.51002328e-01\n",
            "  2.16502900e+01 1.56600000e+03 1.30208000e+02 8.74000000e+01]\n",
            " [1.23801300e+06 1.58000000e+00 9.00000000e-01 3.07876290e+00\n",
            "  2.51566900e+01 1.46150000e+04 1.30878600e+02 1.58000000e+01]\n",
            " [1.65198620e+07 1.77000000e+00 2.00000000e-01 1.05330281e+01\n",
            "  2.60154100e+01 4.73880000e+04 1.21695000e+02 4.80000000e+00]\n",
            " [2.65228100e+06 2.89000000e+00 1.00000000e-01 1.55720805e+01\n",
            "  2.62410900e+01 4.77990000e+04 1.26887000e+02 1.19000000e+01]\n",
            " [3.48110590e+07 2.73000000e+00 1.00000000e-01 3.32894466e+00\n",
            "  2.45962000e+01 1.23140000e+04 1.29904900e+02 2.95000000e+01]\n",
            " [1.51115683e+08 6.02000000e+00 3.60000000e+00 6.14689662e-01\n",
            "  2.30332200e+01 4.68400000e+03 1.35492000e+02 1.40900000e+02]\n",
            " [3.83277100e+06 5.10000000e+00 3.50000000e+00 3.84220477e-01\n",
            "  2.18713400e+01 5.02200000e+03 1.31693500e+02 7.26000000e+01]] [74.  54.8 75.5 74.1 52.  57.5 70.9 64.3 60.4 56.6 55.9 80.9 71.3 80.\n",
            " 55.9 75.7 46.1 75.3 78.7 74.5 78.9 73.3 80.9 61.5 78.2 63.  80.4 76.8\n",
            " 63.2 79.5 74.  61.  64.1 72.2 81.  45.2 69.6 76.5 81.9 68.4 63.2 69.4\n",
            " 72.5 73.9 56.7 72.  78.5 70.6 80.7 59.7 55.  61.7 70.8 77.1 72.1 58.2\n",
            " 79.4 75.4 81.4 56.7 75.2 65.7 64.4 80.2 62.7 68.6 69.1 69.5 82.  51.4\n",
            " 77.8 78.2 69.5 81.4 68.2 74.1 79.7 62.2 75.1 58.3 51.3 66.2 75.5 80.7\n",
            " 79.2 73.6 81.1 60.8 63.4 81.1 49.  57.4 61.  67.6 67.6 59.7 75.3] [68.7 66.1 76.5 67.4 79.4 70.7 58.3 72.3 60.  70.9 74.8 57.2 63.6 59.4\n",
            " 55.  77.6 79.4 62.6 76.  76.4 70.1 74.3 55.8 81.5 80.7 75.1 79.5 76.9\n",
            " 61.2 73.2 70.1 73.8 80.4 82.6 73.4 62.2 72.1 80.3 74.6 75.3 58.  58.6]\n",
            "R^2: 0.838046873142936\n",
            "Root Mean Squared Error: 3.2476010800377213\n"
          ],
          "name": "stdout"
        }
      ]
    },
    {
      "cell_type": "markdown",
      "metadata": {
        "id": "Vzb_tJuandDi"
      },
      "source": [
        "### 5-fold cross-validation\n",
        "Cross-validation is a vital step in evaluating a model. It maximizes the amount of data that is used to train the model, as during the course of training, the model is not only trained, but also tested on all of the available data.\n",
        "\n",
        "In this exercise, you will practice 5-fold cross validation on the Gapminder data. By default, scikit-learn's cross_val_score() function uses  as the metric of choice for regression. Since you are performing 5-fold cross-validation, the function will return 5 scores. Your job is to compute these 5 scores and then take their average.\n",
        "\n",
        "The DataFrame has been loaded as df and split into the feature/target variable arrays X and y. The modules pandas and numpy have been imported as pd and np, respectively.\n",
        "\n",
        "Instructions\n",
        "\n",
        "Import LinearRegression from sklearn.linear_model and cross_val_score from sklearn.model_selection.\n",
        "Create a linear regression regressor called reg.\n",
        "Use the cross_val_score() function to perform 5-fold cross-validation on X and y.\n",
        "Compute and print the average cross-validation score. You can use NumPy's mean() function to compute the average."
      ]
    },
    {
      "cell_type": "code",
      "metadata": {
        "colab": {
          "base_uri": "https://localhost:8080/"
        },
        "id": "cYokWCYHiO5U",
        "outputId": "b959314f-5f4a-42c5-a7fd-fa50827792e8"
      },
      "source": [
        "# Import the necessary modules\n",
        "from sklearn.linear_model import LinearRegression\n",
        "from sklearn.model_selection import  cross_val_score\n",
        "\n",
        "# Create a linear regression object: reg\n",
        "reg = LinearRegression()\n",
        "\n",
        "# Compute 5-fold cross-validation scores: cv_scores\n",
        "cv_scores = cross_val_score(reg,X,y,cv=5)\n",
        "\n",
        "# Print the 5-fold cross-validation scores\n",
        "print(cv_scores)\n",
        "\n",
        "print(\"Average 5-Fold CV Score: {}\".format(np.mean(cv_scores)))\n"
      ],
      "execution_count": 71,
      "outputs": [
        {
          "output_type": "stream",
          "text": [
            "[0.81720569 0.82917058 0.90214134 0.80633989 0.94495637]\n",
            "Average 5-Fold CV Score: 0.8599627722793232\n"
          ],
          "name": "stdout"
        }
      ]
    },
    {
      "cell_type": "markdown",
      "metadata": {
        "id": "3NP1s7qloCsM"
      },
      "source": [
        "### K-Fold CV comparison\n",
        "Cross validation is essential but do not forget that the more folds you use, the more computationally expensive cross-validation becomes. In this exercise, you will explore this for yourself. Your job is to perform 3-fold cross-validation and then 10-fold cross-validation on the Gapminder dataset.\n",
        "\n",
        "In the IPython Shell, you can use %timeit to see how long each 3-fold CV takes compared to 10-fold CV by executing the following cv=3 and cv=10:\n",
        "\n",
        "%timeit cross_val_score(reg, X, y, cv = ____)\n",
        "pandas and numpy are available in the workspace as pd and np. The DataFrame has been loaded as df and the feature/target variable arrays X and y have been created.\n",
        "\n",
        "Instructions\n",
        "\n",
        "Import LinearRegression from sklearn.linear_model and cross_val_score from sklearn.model_selection.\n",
        "Create a linear regression regressor called reg.\n",
        "Perform 3-fold CV and then 10-fold CV. Compare the resulting mean scores."
      ]
    },
    {
      "cell_type": "code",
      "metadata": {
        "colab": {
          "base_uri": "https://localhost:8080/"
        },
        "id": "kc0SDt_wnX8O",
        "outputId": "5d0cabb0-a725-410f-a976-35c5f2a59ecf"
      },
      "source": [
        "# Import necessary modules\n",
        "from sklearn.linear_model import LinearRegression\n",
        "from sklearn.model_selection import cross_val_score\n",
        "\n",
        "# Create a linear regression object: reg\n",
        "reg = LinearRegression()\n",
        "\n",
        "# Perform 3-fold CV\n",
        "cvscores_3 = cross_val_score(reg,X,y,cv=3)\n",
        "print(np.mean(cvscores_3))\n",
        "\n",
        "# Perform 10-fold CV\n",
        "cvscores_10 = cross_val_score(reg,X,y,cv=10)\n",
        "print(np.mean(cvscores_10))\n",
        "\n",
        "%timeit cross_val_score(reg,X,y,cv=3)\n",
        "%timeit cross_val_score(reg,X,y,cv=10)"
      ],
      "execution_count": 72,
      "outputs": [
        {
          "output_type": "stream",
          "text": [
            "0.8718712782622108\n",
            "0.8436128620131201\n",
            "100 loops, best of 3: 3.76 ms per loop\n",
            "100 loops, best of 3: 11.9 ms per loop\n"
          ],
          "name": "stdout"
        }
      ]
    },
    {
      "cell_type": "code",
      "metadata": {
        "id": "1Dx-CH_NoSgw"
      },
      "source": [
        ""
      ],
      "execution_count": null,
      "outputs": []
    }
  ]
}