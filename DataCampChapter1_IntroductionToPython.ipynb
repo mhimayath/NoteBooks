{
  "nbformat": 4,
  "nbformat_minor": 0,
  "metadata": {
    "colab": {
      "name": "DataCampChapter1-IntroductionToPython.ipynb",
      "provenance": [],
      "authorship_tag": "ABX9TyO/KQq8T7YE0nltAi7jPiLs",
      "include_colab_link": true
    },
    "kernelspec": {
      "name": "python3",
      "display_name": "Python 3"
    },
    "language_info": {
      "name": "python"
    }
  },
  "cells": [
    {
      "cell_type": "markdown",
      "metadata": {
        "id": "view-in-github",
        "colab_type": "text"
      },
      "source": [
        "<a href=\"https://colab.research.google.com/github/mhimayath/NoteBooks/blob/main/DataCampChapter1_IntroductionToPython.ipynb\" target=\"_parent\"><img src=\"https://colab.research.google.com/assets/colab-badge.svg\" alt=\"Open In Colab\"/></a>"
      ]
    },
    {
      "cell_type": "code",
      "source": [
        "savings = 100\n",
        "print(savings)"
      ],
      "metadata": {
        "colab": {
          "base_uri": "https://localhost:8080/"
        },
        "id": "9241mGkpyHlI",
        "outputId": "11ba61a4-0a7d-45c3-b3d7-2a21824212d5"
      },
      "execution_count": 1,
      "outputs": [
        {
          "output_type": "stream",
          "name": "stdout",
          "text": [
            "100\n"
          ]
        }
      ]
    },
    {
      "cell_type": "code",
      "execution_count": 2,
      "metadata": {
        "colab": {
          "base_uri": "https://localhost:8080/"
        },
        "id": "vMtUvpAUj4B_",
        "outputId": "6055be5b-7f38-45e5-a215-ceb2c1d6c375"
      },
      "outputs": [
        {
          "output_type": "stream",
          "name": "stdout",
          "text": [
            "abbc\n"
          ]
        }
      ],
      "source": [
        "print('ab'+'bc')"
      ]
    },
    {
      "cell_type": "code",
      "source": [
        "print(\"Hello's World!\") "
      ],
      "metadata": {
        "colab": {
          "base_uri": "https://localhost:8080/"
        },
        "id": "LrdnLIdPyT_q",
        "outputId": "9bb6088c-a19a-484e-c59c-d08e5526ea51"
      },
      "execution_count": 4,
      "outputs": [
        {
          "output_type": "stream",
          "name": "stdout",
          "text": [
            "Hello's World!\n"
          ]
        }
      ]
    },
    {
      "cell_type": "code",
      "source": [
        "print('Hello\\'s World!') # Use \\ to omit the ' or \""
      ],
      "metadata": {
        "colab": {
          "base_uri": "https://localhost:8080/"
        },
        "id": "HbL0s8ydyXtr",
        "outputId": "7f79a9f0-bb67-4d1a-efdf-0c466e464ac6"
      },
      "execution_count": 5,
      "outputs": [
        {
          "output_type": "stream",
          "name": "stdout",
          "text": [
            "Hello's World!\n"
          ]
        }
      ]
    },
    {
      "cell_type": "code",
      "source": [
        "savings = 100\n",
        "result = savings * (2 ** 2)\n",
        "print(result)"
      ],
      "metadata": {
        "colab": {
          "base_uri": "https://localhost:8080/"
        },
        "id": "3OKhxuKkyfi2",
        "outputId": "6e7a52bf-7322-4e10-c8ee-6ddfb9699625"
      },
      "execution_count": 6,
      "outputs": [
        {
          "output_type": "stream",
          "name": "stdout",
          "text": [
            "400\n"
          ]
        }
      ]
    },
    {
      "cell_type": "code",
      "source": [
        "string = \"This is a string\"\n",
        "boolean = True "
      ],
      "metadata": {
        "id": "Tw8dlf5kysDO"
      },
      "execution_count": 7,
      "outputs": []
    },
    {
      "cell_type": "code",
      "source": [
        "print(\"This is a custom string \" + str(savings))"
      ],
      "metadata": {
        "colab": {
          "base_uri": "https://localhost:8080/"
        },
        "id": "ZHyeG_r8y0oZ",
        "outputId": "af455e84-2996-4188-f3cd-c8bb70bdc4aa"
      },
      "execution_count": 9,
      "outputs": [
        {
          "output_type": "stream",
          "name": "stdout",
          "text": [
            "This is a custom string 100\n"
          ]
        }
      ]
    },
    {
      "cell_type": "markdown",
      "source": [
        "List"
      ],
      "metadata": {
        "id": "MTZXdge-86U-"
      }
    },
    {
      "cell_type": "code",
      "source": [
        "list1 = [1,2.0,\"Hello World!\",[1,2,3,4,5]] #List can contain any values, list of lists as well"
      ],
      "metadata": {
        "id": "ZBA3KOKby_LQ"
      },
      "execution_count": 10,
      "outputs": []
    },
    {
      "cell_type": "code",
      "source": [
        "print([1+2,\"a\"*3,3]) # List can compute and store values too"
      ],
      "metadata": {
        "colab": {
          "base_uri": "https://localhost:8080/"
        },
        "id": "y6DRY9cOzlbJ",
        "outputId": "09400f5a-2d94-4478-e2e6-731ec98deab9"
      },
      "execution_count": 11,
      "outputs": [
        {
          "output_type": "stream",
          "name": "stdout",
          "text": [
            "[3, 'aaa', 3]\n"
          ]
        }
      ]
    },
    {
      "cell_type": "code",
      "source": [
        "# area variables (in square meters)\n",
        "hall = 11.25\n",
        "kit = 18.0\n",
        "liv = 20.0\n",
        "bed = 10.75\n",
        "bath = 9.50\n",
        "\n",
        "# house information as list of lists\n",
        "house = [[\"hallway\", hall],\n",
        "         [\"kitchen\", kit],\n",
        "         [\"living room\", liv],\n",
        "         [\"bedroom\",bed],\n",
        "         [\"bathroom\",bath]]"
      ],
      "metadata": {
        "id": "1IaVY25Wz-sC"
      },
      "execution_count": 12,
      "outputs": []
    },
    {
      "cell_type": "code",
      "source": [
        "print(house[1]) #List is zero indexed\n",
        "print(house[1][0])"
      ],
      "metadata": {
        "colab": {
          "base_uri": "https://localhost:8080/"
        },
        "id": "zwiy4jJ-3vOn",
        "outputId": "95216603-e149-4c5d-d88c-5d96837bdbd7"
      },
      "execution_count": 15,
      "outputs": [
        {
          "output_type": "stream",
          "name": "stdout",
          "text": [
            "['kitchen', 18.0]\n",
            "kitchen\n"
          ]
        }
      ]
    },
    {
      "cell_type": "code",
      "source": [
        "for i in house:\n",
        "  print(i)\n",
        "  print(i[0] + str(i[1]))"
      ],
      "metadata": {
        "colab": {
          "base_uri": "https://localhost:8080/"
        },
        "id": "tbq7dRm13xcR",
        "outputId": "52f19472-7397-437f-b1c4-7d1ce6dfbfd8"
      },
      "execution_count": 19,
      "outputs": [
        {
          "output_type": "stream",
          "name": "stdout",
          "text": [
            "['hallway', 11.25]\n",
            "hallway11.25\n",
            "['kitchen', 18.0]\n",
            "kitchen18.0\n",
            "['living room', 20.0]\n",
            "living room20.0\n",
            "['bedroom', 10.75]\n",
            "bedroom10.75\n",
            "['bathroom', 9.5]\n",
            "bathroom9.5\n"
          ]
        }
      ]
    },
    {
      "cell_type": "code",
      "source": [
        "list1 = [1,2,3,4,5,6,7,8,9,10]\n",
        "print(list1[0:10])\n",
        "print(list1[0:])\n",
        "print(list1[:8])\n",
        "print(list1[-1:])\n",
        "print(list1[:-1])\n",
        "print(list1[-2:-1]) #If given with negative indexing, only use negative indexing"
      ],
      "metadata": {
        "colab": {
          "base_uri": "https://localhost:8080/"
        },
        "id": "ms2xqDEp5Aub",
        "outputId": "8b510375-a817-446c-f633-7c60d4635b87"
      },
      "execution_count": 31,
      "outputs": [
        {
          "output_type": "stream",
          "name": "stdout",
          "text": [
            "[1, 2, 3, 4, 5, 6, 7, 8, 9, 10]\n",
            "[1, 2, 3, 4, 5, 6, 7, 8, 9, 10]\n",
            "[1, 2, 3, 4, 5, 6, 7, 8]\n",
            "[10]\n",
            "[1, 2, 3, 4, 5, 6, 7, 8, 9]\n",
            "[9]\n"
          ]
        }
      ]
    },
    {
      "cell_type": "code",
      "source": [
        "list1[0:3] = [0,0,0]\n",
        "print(list1)"
      ],
      "metadata": {
        "colab": {
          "base_uri": "https://localhost:8080/"
        },
        "id": "00PcdRkv5ont",
        "outputId": "95bfa914-c2dd-48c4-e9a1-70f34f14aaee"
      },
      "execution_count": 33,
      "outputs": [
        {
          "output_type": "stream",
          "name": "stdout",
          "text": [
            "[0, 0, 0, 4, 5, 6, 7, 8, 9, 10]\n"
          ]
        }
      ]
    },
    {
      "cell_type": "code",
      "source": [
        "list2 = list1 # list 2 is Reference to the list1 \n",
        "list2[0:3] = [1,1,1]\n",
        "print(list2)\n",
        "print(list1)"
      ],
      "metadata": {
        "colab": {
          "base_uri": "https://localhost:8080/"
        },
        "id": "52FkGxWp69yf",
        "outputId": "1e330b60-f0c7-4793-ad5a-a67e90c7164a"
      },
      "execution_count": 34,
      "outputs": [
        {
          "output_type": "stream",
          "name": "stdout",
          "text": [
            "[1, 1, 1, 4, 5, 6, 7, 8, 9, 10]\n",
            "[1, 1, 1, 4, 5, 6, 7, 8, 9, 10]\n"
          ]
        }
      ]
    },
    {
      "cell_type": "code",
      "source": [
        "#Creating new copies of list1\n",
        "list2 = list(list1)  \n",
        "list2 = list1[:]\n",
        "list2[0:3] = [1,1,1]\n",
        "print(list2)\n",
        "print(list1)\n"
      ],
      "metadata": {
        "colab": {
          "base_uri": "https://localhost:8080/"
        },
        "id": "ipltShiI7Mwh",
        "outputId": "d62837eb-4460-46f5-d6fe-85f62e5540a0"
      },
      "execution_count": 35,
      "outputs": [
        {
          "output_type": "stream",
          "name": "stdout",
          "text": [
            "[1, 1, 1, 4, 5, 6, 7, 8, 9, 10]\n",
            "[1, 1, 1, 4, 5, 6, 7, 8, 9, 10]\n"
          ]
        }
      ]
    },
    {
      "cell_type": "code",
      "source": [
        "del(list2[0:5]) # Deletes it from the list \n",
        "print(list2)"
      ],
      "metadata": {
        "colab": {
          "base_uri": "https://localhost:8080/"
        },
        "id": "md2yZFyT7iSf",
        "outputId": "84ab1b61-38a6-46dd-98cc-89143ce9fede"
      },
      "execution_count": 37,
      "outputs": [
        {
          "output_type": "stream",
          "name": "stdout",
          "text": [
            "[7, 8, 9, 10]\n"
          ]
        }
      ]
    },
    {
      "cell_type": "markdown",
      "source": [
        "Functions"
      ],
      "metadata": {
        "id": "JopnzUmp83ne"
      }
    },
    {
      "cell_type": "code",
      "source": [
        "max(list2)"
      ],
      "metadata": {
        "colab": {
          "base_uri": "https://localhost:8080/"
        },
        "id": "lYNFQiXA7oAT",
        "outputId": "ad6bca77-3fe6-4678-c251-fdd0a8cbd054"
      },
      "execution_count": 38,
      "outputs": [
        {
          "output_type": "execute_result",
          "data": {
            "text/plain": [
              "10"
            ]
          },
          "metadata": {},
          "execution_count": 38
        }
      ]
    },
    {
      "cell_type": "code",
      "source": [
        "min(list2)"
      ],
      "metadata": {
        "colab": {
          "base_uri": "https://localhost:8080/"
        },
        "id": "sAK9vtaL9FL2",
        "outputId": "0a3c28a6-5840-405d-bad9-5e20e1ae974f"
      },
      "execution_count": 39,
      "outputs": [
        {
          "output_type": "execute_result",
          "data": {
            "text/plain": [
              "7"
            ]
          },
          "metadata": {},
          "execution_count": 39
        }
      ]
    },
    {
      "cell_type": "code",
      "source": [
        "print(round(10.3454))\n",
        "print(round(10.3454,1))\n",
        "print(round(10.3454,2))"
      ],
      "metadata": {
        "colab": {
          "base_uri": "https://localhost:8080/"
        },
        "id": "zro86KLI9Go1",
        "outputId": "4372c19b-8009-4a4f-fb6c-b3ae5b685386"
      },
      "execution_count": 43,
      "outputs": [
        {
          "output_type": "stream",
          "name": "stdout",
          "text": [
            "10\n",
            "10.3\n",
            "10.35\n"
          ]
        }
      ]
    },
    {
      "cell_type": "code",
      "source": [
        "list3 = [6,5,4,7,8,9,2,3,1,4]\n",
        "list3.sort() #Sorts and assigns back\n",
        "print(list3)\n",
        "list3.sort(reverse=True) #Sorts and assigns back\n",
        "print(list3)"
      ],
      "metadata": {
        "colab": {
          "base_uri": "https://localhost:8080/"
        },
        "id": "7MLd3NjV9QpO",
        "outputId": "aea49c19-75d3-44ea-9235-84ff4c12176a"
      },
      "execution_count": 47,
      "outputs": [
        {
          "output_type": "stream",
          "name": "stdout",
          "text": [
            "[1, 2, 3, 4, 4, 5, 6, 7, 8, 9]\n",
            "[9, 8, 7, 6, 5, 4, 4, 3, 2, 1]\n"
          ]
        }
      ]
    },
    {
      "cell_type": "code",
      "source": [
        "print(list3)\n",
        "print(sorted(list3)) # Sorts and returns the list, Original list is not affected\n",
        "print(list3)"
      ],
      "metadata": {
        "colab": {
          "base_uri": "https://localhost:8080/"
        },
        "id": "sS1S8KIc-RCi",
        "outputId": "8d5b88ad-baeb-4859-c1a4-a51e1d560d69"
      },
      "execution_count": 52,
      "outputs": [
        {
          "output_type": "stream",
          "name": "stdout",
          "text": [
            "[9, 8, 7, 6, 5, 4, 4, 3, 2, 1]\n",
            "[1, 2, 3, 4, 4, 5, 6, 7, 8, 9]\n",
            "[9, 8, 7, 6, 5, 4, 4, 3, 2, 1]\n"
          ]
        }
      ]
    },
    {
      "cell_type": "code",
      "source": [
        ""
      ],
      "metadata": {
        "id": "eoYQ8B2P-rjD"
      },
      "execution_count": null,
      "outputs": []
    }
  ]
}