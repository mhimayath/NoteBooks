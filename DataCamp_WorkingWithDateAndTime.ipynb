{
  "nbformat": 4,
  "nbformat_minor": 0,
  "metadata": {
    "colab": {
      "name": "DataCamp_WorkingWithDateAndTime.ipynb",
      "provenance": [],
      "collapsed_sections": [],
      "mount_file_id": "1XVcbDY_sz1SJLz6xEqt3b7zdyqi993fM",
      "authorship_tag": "ABX9TyNlwAQ8laj/41/YOXUBgCvx",
      "include_colab_link": true
    },
    "kernelspec": {
      "name": "python3",
      "display_name": "Python 3"
    }
  },
  "cells": [
    {
      "cell_type": "markdown",
      "metadata": {
        "id": "view-in-github",
        "colab_type": "text"
      },
      "source": [
        "<a href=\"https://colab.research.google.com/github/mhimayath/NoteBooks/blob/main/DataCamp_WorkingWithDateAndTime.ipynb\" target=\"_parent\"><img src=\"https://colab.research.google.com/assets/colab-badge.svg\" alt=\"Open In Colab\"/></a>"
      ]
    },
    {
      "cell_type": "code",
      "metadata": {
        "id": "H5SHQ4n6K87h"
      },
      "source": [
        "import pickle as p \n",
        "import numpy as np \n",
        "import pandas as pd \n",
        "import matplotlib.pyplot as plt"
      ],
      "execution_count": null,
      "outputs": []
    },
    {
      "cell_type": "code",
      "metadata": {
        "id": "X5VBB3cpL0Ys"
      },
      "source": [
        "file = open('/content/drive/My Drive/datasets/Working with date and time /florida_hurricane_dates.pkl','rb')\n",
        "df = p.load(file)"
      ],
      "execution_count": null,
      "outputs": []
    },
    {
      "cell_type": "markdown",
      "metadata": {
        "id": "SDHTyNV9x67k"
      },
      "source": [
        "### Which day of the week?\n",
        "Hurricane Andrew, which hit Florida on August 24, 1992, was one of the costliest and deadliest hurricanes in US history. Which day of the week did it make landfall?\n",
        "\n",
        "Let's walk through all of the steps to figure this out."
      ]
    },
    {
      "cell_type": "code",
      "metadata": {
        "id": "ReCabbrbL6zx",
        "outputId": "a01c2bc8-a13e-40e7-c9ae-9d9fb2484087",
        "colab": {
          "base_uri": "https://localhost:8080/",
          "height": 34
        }
      },
      "source": [
        "# Import date from datetime\n",
        "from datetime import date\n",
        "\n",
        "# Create a date object\n",
        "hurricane_andrew = date(1992, 8, 24)\n",
        "\n",
        "# Which day of the week is the date?\n",
        "print(hurricane_andrew.weekday())"
      ],
      "execution_count": null,
      "outputs": [
        {
          "output_type": "stream",
          "text": [
            "0\n"
          ],
          "name": "stdout"
        }
      ]
    },
    {
      "cell_type": "markdown",
      "metadata": {
        "id": "SKCkGHUtyf_S"
      },
      "source": [
        "### How many hurricanes come early?\n",
        "In this chapter, you will work with a list of the hurricanes that made landfall in Florida from 1950 to 2017. There were 235 in total. Check out the variable florida_hurricane_dates, which has all of these dates.\n",
        "\n",
        "Atlantic hurricane season officially begins on June 1. How many hurricanes since 1950 have made landfall in Florida before the official start of hurricane season?"
      ]
    },
    {
      "cell_type": "code",
      "metadata": {
        "id": "S8gT3KmhMCJc",
        "outputId": "5f417cae-71cb-42ef-b354-1a8ff790a7eb",
        "colab": {
          "base_uri": "https://localhost:8080/",
          "height": 34
        }
      },
      "source": [
        "# Counter for how many before June 1\n",
        "early_hurricanes = 0\n",
        "florida_hurricane_dates = df\n",
        "# We loop over the dates\n",
        "for hurricane in florida_hurricane_dates:\n",
        "  # Check if the month is before June (month number 6)\n",
        "  if hurricane.month < 6:\n",
        "    early_hurricanes = early_hurricanes + 1\n",
        "    \n",
        "print(early_hurricanes)"
      ],
      "execution_count": null,
      "outputs": [
        {
          "output_type": "stream",
          "text": [
            "10\n"
          ],
          "name": "stdout"
        }
      ]
    },
    {
      "cell_type": "markdown",
      "metadata": {
        "id": "QmR-Mx5J0Pgu"
      },
      "source": [
        "### Subtracting dates\n",
        "Python date objects let us treat calendar dates as something similar to numbers: we can compare them, sort them, add, and even subtract them. This lets us do math with dates in a way that would be a pain to do by hand.\n",
        "\n",
        "The 2007 Florida hurricane season was one of the busiest on record, with 8 hurricanes in one year. The first one hit on May 9th, 2007, and the last one hit on December 13th, 2007. How many days elapsed between the first and last hurricane in 2007?"
      ]
    },
    {
      "cell_type": "code",
      "metadata": {
        "id": "2VJmXs4oyliO",
        "outputId": "cc4f4aaf-a878-419c-97b5-282c6236220c",
        "colab": {
          "base_uri": "https://localhost:8080/",
          "height": 34
        }
      },
      "source": [
        "# Import date\n",
        "from datetime import date\n",
        "\n",
        "# Create a date object for May 9th, 2007\n",
        "start = date(2007, 5, 9)\n",
        "\n",
        "# Create a date object for December 13th, 2007\n",
        "end = date(2007, 12, 13)\n",
        "\n",
        "# Subtract the two dates and print the number of days\n",
        "print((end - start).days)"
      ],
      "execution_count": null,
      "outputs": [
        {
          "output_type": "stream",
          "text": [
            "218\n"
          ],
          "name": "stdout"
        }
      ]
    },
    {
      "cell_type": "markdown",
      "metadata": {
        "id": "MzH0GSRA041z"
      },
      "source": [
        "### Counting events per calendar month\n",
        "Hurricanes can make landfall in Florida throughout the year. As we've already discussed, some months are more hurricane-prone than others.\n",
        "\n",
        "Using florida_hurricane_dates, let's see how hurricanes in Florida were distributed across months throughout the year.\n",
        "\n",
        "We've created a dictionary called hurricanes_each_month to hold your counts and set the initial counts to zero. You will loop over the list of hurricanes, incrementing the correct month in hurricanes_each_month as you go, and then print the result."
      ]
    },
    {
      "cell_type": "code",
      "metadata": {
        "id": "vSfmnuBu0i0P",
        "outputId": "7f55134e-7244-4b0f-8c4d-06582471931f",
        "colab": {
          "base_uri": "https://localhost:8080/",
          "height": 34
        }
      },
      "source": [
        "# A dictionary to count hurricanes per calendar month\n",
        "hurricanes_each_month = {1: 0, 2: 0, 3: 0, 4: 0, 5: 0, 6:0,\n",
        "\t\t  \t\t\t\t 7: 0, 8:0, 9:0, 10:0, 11:0, 12:0}\n",
        "\n",
        "# Loop over all hurricanes\n",
        "for hurricane in florida_hurricane_dates:\n",
        "  # Pull out the month\n",
        "  month = hurricane.month\n",
        "  # Increment the count in your dictionary by one\n",
        "  hurricanes_each_month[month] +=1 \n",
        "  \n",
        "print(hurricanes_each_month)"
      ],
      "execution_count": null,
      "outputs": [
        {
          "output_type": "stream",
          "text": [
            "{1: 0, 2: 1, 3: 0, 4: 1, 5: 8, 6: 32, 7: 21, 8: 49, 9: 70, 10: 43, 11: 9, 12: 1}\n"
          ],
          "name": "stdout"
        }
      ]
    },
    {
      "cell_type": "markdown",
      "metadata": {
        "id": "Fme2lDZh1bHt"
      },
      "source": [
        "### Putting a list of dates in order\n",
        "Much like numbers and strings, date objects in Python can be put in order. Earlier dates come before later ones, and so we can sort a list of date objects from earliest to latest.\n",
        "\n",
        "What if our Florida hurricane dates had been scrambled? We've gone ahead and shuffled them so they're in random order and saved the results as dates_scrambled. Your job is to put them back in chronological order, and then print the first and last dates from this sorted list."
      ]
    },
    {
      "cell_type": "code",
      "metadata": {
        "id": "jVU0t1LO086F"
      },
      "source": [
        "# # Print the first and last scrambled dates\n",
        "# print(dates_scrambled[0])\n",
        "# print(dates_scrambled[-1])\n",
        "\n",
        "# # Put the dates in order\n",
        "# dates_ordered = sorted(dates_scrambled)\n",
        "\n",
        "# # Print the first and last ordered dates\n",
        "# print(dates_ordered[0])\n",
        "# print(dates_ordered[-1])"
      ],
      "execution_count": null,
      "outputs": []
    },
    {
      "cell_type": "markdown",
      "metadata": {
        "id": "LyOGN2at2yzv"
      },
      "source": [
        "### Printing dates in a friendly format\n",
        "Because people may want to see dates in many different formats, Python comes with very flexible functions for turning date objects into strings.\n",
        "\n",
        "Let's see what event was recorded first in the Florida hurricane data set. In this exercise, you will format the earliest date in the florida_hurriance_dates list in two ways so you can decide which one you want to use: either the ISO standard or the typical US style."
      ]
    },
    {
      "cell_type": "code",
      "metadata": {
        "id": "DExE7Itt1r0k",
        "outputId": "6b506162-e58b-43f3-9781-8afbf29ce75f",
        "colab": {
          "base_uri": "https://localhost:8080/",
          "height": 51
        }
      },
      "source": [
        "# Assign the earliest date to first_date\n",
        "first_date = min(florida_hurricane_dates)\n",
        "\n",
        "# Convert to ISO and US formats\n",
        "iso = \"Our earliest hurricane date: \" + first_date.isoformat()\n",
        "us = \"Our earliest hurricane date: \" + first_date.strftime(\"%m/%d/%Y\")\n",
        "\n",
        "print(\"ISO: \" + iso)\n",
        "print(\"US: \" + us)"
      ],
      "execution_count": null,
      "outputs": [
        {
          "output_type": "stream",
          "text": [
            "ISO: Our earliest hurricane date: 1950-08-31\n",
            "US: Our earliest hurricane date: 08/31/1950\n"
          ],
          "name": "stdout"
        }
      ]
    },
    {
      "cell_type": "markdown",
      "metadata": {
        "id": "IxDBczC24xCj"
      },
      "source": [
        "### Representing dates in different ways\n",
        "date objects in Python have a great number of ways they can be printed out as strings. In some cases, you want to know the date in a clear, language-agnostic format. In other cases, you want something which can fit into a paragraph and flow naturally.\n",
        "\n",
        "Let's try printing out the same date, August 26, 1992 (the day that Hurricane Andrew made landfall in Florida), in a number of different ways, to practice using the .strftime() method.\n",
        "\n",
        "A date object called andrew has already been created."
      ]
    },
    {
      "cell_type": "code",
      "metadata": {
        "id": "JZNV78ZW3Kx5"
      },
      "source": [
        ""
      ],
      "execution_count": null,
      "outputs": []
    },
    {
      "cell_type": "markdown",
      "metadata": {
        "id": "1k7GOn2DMMf3"
      },
      "source": [
        "### Creating datetimes by hand\n",
        "Often you create datetime objects based on outside data. Sometimes though, you want to create a datetime object from scratch.\n",
        "\n",
        "You're going to create a few different datetime objects from scratch to get the hang of that process. These come from the bikeshare data set that you'll use throughout the rest of the chapter."
      ]
    },
    {
      "cell_type": "code",
      "metadata": {
        "id": "QTwQFglaLtBA",
        "outputId": "c9fd6928-7a97-4f48-80c4-c53e867b2b63",
        "colab": {
          "base_uri": "https://localhost:8080/",
          "height": 34
        }
      },
      "source": [
        "# Import datetime\n",
        "from datetime import datetime\n",
        "\n",
        "# Create a datetime object\n",
        "dt = datetime(2017, 10, 1, 15, 26, 26)\n",
        "\n",
        "# Print the results in ISO 8601 format\n",
        "print(dt.isoformat())"
      ],
      "execution_count": null,
      "outputs": [
        {
          "output_type": "stream",
          "text": [
            "2017-10-01T15:26:26\n"
          ],
          "name": "stdout"
        }
      ]
    },
    {
      "cell_type": "code",
      "metadata": {
        "id": "ck1KaL_6LtpK",
        "outputId": "2a66a2d5-ea32-40d2-8562-0d74580d7e18",
        "colab": {
          "base_uri": "https://localhost:8080/",
          "height": 34
        }
      },
      "source": [
        "# Import datetime\n",
        "from datetime import datetime\n",
        "\n",
        "# Create a datetime object\n",
        "dt = datetime(2017,12,31,15,19,13)\n",
        "\n",
        "# Print the results in ISO 8601 format\n",
        "print(dt.isoformat())"
      ],
      "execution_count": null,
      "outputs": [
        {
          "output_type": "stream",
          "text": [
            "2017-12-31T15:19:13\n"
          ],
          "name": "stdout"
        }
      ]
    },
    {
      "cell_type": "code",
      "metadata": {
        "id": "uCarQAnUMCm3",
        "outputId": "79a5c3cf-20c2-42ac-8918-4533b2892282",
        "colab": {
          "base_uri": "https://localhost:8080/",
          "height": 34
        }
      },
      "source": [
        "# Import datetime\n",
        "from datetime import datetime\n",
        "\n",
        "# Create a datetime object\n",
        "dt = datetime(2017, 12, 31, 15, 19, 13)\n",
        "\n",
        "# Replace the year with 1917\n",
        "dt_old = dt.replace(year=1917)\n",
        "\n",
        "# Print the results in ISO 8601 format\n",
        "print(dt_old)"
      ],
      "execution_count": null,
      "outputs": [
        {
          "output_type": "stream",
          "text": [
            "1917-12-31 15:19:13\n"
          ],
          "name": "stdout"
        }
      ]
    },
    {
      "cell_type": "markdown",
      "metadata": {
        "id": "eF8jsApKMZji"
      },
      "source": [
        "### Counting events before and after noon\n",
        "In this chapter, you will be working with a list of all bike trips for one Capital Bikeshare bike, W20529, from October 1, 2017 to December 31, 2017. This list has been loaded as onebike_datetimes.\n",
        "\n",
        "Each element of the list is a dictionary with two entries: start is a datetime object corresponding to the start of a trip (when a bike is removed from the dock) and end is a datetime object corresponding to the end of a trip (when a bike is put back into a dock).\n",
        "\n",
        "You can use this data set to understand better how this bike was used. Did more trips start before noon or after noon?"
      ]
    },
    {
      "cell_type": "code",
      "metadata": {
        "id": "78BM5TmWMKaN"
      },
      "source": [
        "df = pd.read_csv('/content/drive/My Drive/datasets/Working with date and time /capital-onebike.csv')"
      ],
      "execution_count": null,
      "outputs": []
    },
    {
      "cell_type": "code",
      "metadata": {
        "id": "Jtx9WDDrMrpE",
        "outputId": "e76fee83-9d3d-49ef-b799-9b8529ac2ba5",
        "colab": {
          "base_uri": "https://localhost:8080/",
          "height": 306
        }
      },
      "source": [
        "df.head()"
      ],
      "execution_count": null,
      "outputs": [
        {
          "output_type": "execute_result",
          "data": {
            "text/html": [
              "<div>\n",
              "<style scoped>\n",
              "    .dataframe tbody tr th:only-of-type {\n",
              "        vertical-align: middle;\n",
              "    }\n",
              "\n",
              "    .dataframe tbody tr th {\n",
              "        vertical-align: top;\n",
              "    }\n",
              "\n",
              "    .dataframe thead th {\n",
              "        text-align: right;\n",
              "    }\n",
              "</style>\n",
              "<table border=\"1\" class=\"dataframe\">\n",
              "  <thead>\n",
              "    <tr style=\"text-align: right;\">\n",
              "      <th></th>\n",
              "      <th>Start date</th>\n",
              "      <th>End date</th>\n",
              "      <th>Start station number</th>\n",
              "      <th>Start station</th>\n",
              "      <th>End station number</th>\n",
              "      <th>End station</th>\n",
              "      <th>Bike number</th>\n",
              "      <th>Member type</th>\n",
              "    </tr>\n",
              "  </thead>\n",
              "  <tbody>\n",
              "    <tr>\n",
              "      <th>0</th>\n",
              "      <td>2017-10-01 15:23:25</td>\n",
              "      <td>2017-10-01 15:26:26</td>\n",
              "      <td>31038</td>\n",
              "      <td>Glebe Rd &amp; 11th St N</td>\n",
              "      <td>31036</td>\n",
              "      <td>George Mason Dr &amp; Wilson Blvd</td>\n",
              "      <td>W20529</td>\n",
              "      <td>Member</td>\n",
              "    </tr>\n",
              "    <tr>\n",
              "      <th>1</th>\n",
              "      <td>2017-10-01 15:42:57</td>\n",
              "      <td>2017-10-01 17:49:59</td>\n",
              "      <td>31036</td>\n",
              "      <td>George Mason Dr &amp; Wilson Blvd</td>\n",
              "      <td>31036</td>\n",
              "      <td>George Mason Dr &amp; Wilson Blvd</td>\n",
              "      <td>W20529</td>\n",
              "      <td>Casual</td>\n",
              "    </tr>\n",
              "    <tr>\n",
              "      <th>2</th>\n",
              "      <td>2017-10-02 06:37:10</td>\n",
              "      <td>2017-10-02 06:42:53</td>\n",
              "      <td>31036</td>\n",
              "      <td>George Mason Dr &amp; Wilson Blvd</td>\n",
              "      <td>31037</td>\n",
              "      <td>Ballston Metro / N Stuart &amp; 9th St N</td>\n",
              "      <td>W20529</td>\n",
              "      <td>Member</td>\n",
              "    </tr>\n",
              "    <tr>\n",
              "      <th>3</th>\n",
              "      <td>2017-10-02 08:56:45</td>\n",
              "      <td>2017-10-02 09:18:03</td>\n",
              "      <td>31037</td>\n",
              "      <td>Ballston Metro / N Stuart &amp; 9th St N</td>\n",
              "      <td>31295</td>\n",
              "      <td>Potomac &amp; M St NW</td>\n",
              "      <td>W20529</td>\n",
              "      <td>Member</td>\n",
              "    </tr>\n",
              "    <tr>\n",
              "      <th>4</th>\n",
              "      <td>2017-10-02 18:23:48</td>\n",
              "      <td>2017-10-02 18:45:05</td>\n",
              "      <td>31295</td>\n",
              "      <td>Potomac &amp; M St NW</td>\n",
              "      <td>31230</td>\n",
              "      <td>Metro Center / 12th &amp; G St NW</td>\n",
              "      <td>W20529</td>\n",
              "      <td>Member</td>\n",
              "    </tr>\n",
              "  </tbody>\n",
              "</table>\n",
              "</div>"
            ],
            "text/plain": [
              "            Start date             End date  ...  Bike number Member type\n",
              "0  2017-10-01 15:23:25  2017-10-01 15:26:26  ...       W20529      Member\n",
              "1  2017-10-01 15:42:57  2017-10-01 17:49:59  ...       W20529      Casual\n",
              "2  2017-10-02 06:37:10  2017-10-02 06:42:53  ...       W20529      Member\n",
              "3  2017-10-02 08:56:45  2017-10-02 09:18:03  ...       W20529      Member\n",
              "4  2017-10-02 18:23:48  2017-10-02 18:45:05  ...       W20529      Member\n",
              "\n",
              "[5 rows x 8 columns]"
            ]
          },
          "metadata": {
            "tags": []
          },
          "execution_count": 16
        }
      ]
    },
    {
      "cell_type": "code",
      "metadata": {
        "id": "qnn8GJXrMs5I",
        "outputId": "ecea3edb-2e24-4d3d-c2a4-e91cfb8b1c82",
        "colab": {
          "base_uri": "https://localhost:8080/",
          "height": 170
        }
      },
      "source": [
        "# Create dictionary to hold results\n",
        "trip_counts = {'AM': 0, 'PM': 0}\n",
        "onebike_datetimes = df\n",
        "# Loop over all trips\n",
        "for trip in onebike_datetimes:\n",
        "  print(trip)\n",
        "  # Check to see if the trip starts before noon\n",
        "  # if trip[\"Start date\"].hour < 12:\n",
        "  #   # Increment the counter for before noon\n",
        "  #   trip_counts['AM'] += 1\n",
        "  # else:\n",
        "  #   # Increment the counter for after noon\n",
        "  #   trip_counts['PM'] += 1\n",
        "  \n",
        "print(trip_counts)"
      ],
      "execution_count": null,
      "outputs": [
        {
          "output_type": "stream",
          "text": [
            "Start date\n",
            "End date\n",
            "Start station number\n",
            "Start station\n",
            "End station number\n",
            "End station\n",
            "Bike number\n",
            "Member type\n",
            "{'AM': 0, 'PM': 0}\n"
          ],
          "name": "stdout"
        }
      ]
    },
    {
      "cell_type": "code",
      "metadata": {
        "id": "iVWMJPupNXlg"
      },
      "source": [
        ""
      ],
      "execution_count": null,
      "outputs": []
    }
  ]
}